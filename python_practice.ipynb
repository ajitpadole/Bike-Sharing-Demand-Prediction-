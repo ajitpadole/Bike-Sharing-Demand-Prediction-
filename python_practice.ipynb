{
  "nbformat": 4,
  "nbformat_minor": 0,
  "metadata": {
    "colab": {
      "provenance": [],
      "authorship_tag": "ABX9TyOQX/U1EHVSDMzXdIT2Q1n4",
      "include_colab_link": true
    },
    "kernelspec": {
      "name": "python3",
      "display_name": "Python 3"
    },
    "language_info": {
      "name": "python"
    }
  },
  "cells": [
    {
      "cell_type": "markdown",
      "metadata": {
        "id": "view-in-github",
        "colab_type": "text"
      },
      "source": [
        "<a href=\"https://colab.research.google.com/github/ajitpadole/Bike-Sharing-Demand-Prediction-/blob/main/python_practice.ipynb\" target=\"_parent\"><img src=\"https://colab.research.google.com/assets/colab-badge.svg\" alt=\"Open In Colab\"/></a>"
      ]
    },
    {
      "cell_type": "code",
      "execution_count": 4,
      "metadata": {
        "id": "Pxqe52SCurOy"
      },
      "outputs": [],
      "source": [
        "def given_marks(marks):\n",
        "  if marks>90:\n",
        "    print(\"excellent\")\n",
        "  elif marks > 80 and marks <= 90:\n",
        "    print(\"Good\")\n",
        "  elif marks > 70 and marks <=80:\n",
        "    print(\"fair\")\n",
        "  elif marks > 60 and marks <=70:\n",
        "    print(\"meet exception \")\n",
        "  else:\n",
        "    print(\"par\")"
      ]
    },
    {
      "cell_type": "code",
      "source": [
        "given_marks(85)"
      ],
      "metadata": {
        "colab": {
          "base_uri": "https://localhost:8080/"
        },
        "id": "NUyR6l4awKCw",
        "outputId": "9ffb1918-e540-44b2-e223-36b7c803a2d5"
      },
      "execution_count": 6,
      "outputs": [
        {
          "output_type": "stream",
          "name": "stdout",
          "text": [
            "Good\n"
          ]
        }
      ]
    },
    {
      "cell_type": "code",
      "source": [],
      "metadata": {
        "id": "_9JtnuvqwYIN"
      },
      "execution_count": null,
      "outputs": []
    }
  ]
}