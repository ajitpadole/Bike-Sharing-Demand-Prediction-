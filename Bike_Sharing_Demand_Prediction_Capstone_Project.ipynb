{
  "nbformat": 4,
  "nbformat_minor": 0,
  "metadata": {
    "kernelspec": {
      "display_name": "Python 3",
      "language": "python",
      "name": "python3"
    },
    "language_info": {
      "codemirror_mode": {
        "name": "ipython",
        "version": 3
      },
      "file_extension": ".py",
      "mimetype": "text/x-python",
      "name": "python",
      "nbconvert_exporter": "python",
      "pygments_lexer": "ipython3",
      "version": "3.6.6"
    },
    "colab": {
      "provenance": [],
      "collapsed_sections": [],
      "include_colab_link": true
    }
  },
  "cells": [
    {
      "cell_type": "markdown",
      "metadata": {
        "id": "view-in-github",
        "colab_type": "text"
      },
      "source": [
        "<a href=\"https://colab.research.google.com/github/ajitpadole/Bike-Sharing-Demand-Prediction-/blob/main/Bike_Sharing_Demand_Prediction_Capstone_Project.ipynb\" target=\"_parent\"><img src=\"https://colab.research.google.com/assets/colab-badge.svg\" alt=\"Open In Colab\"/></a>"
      ]
    },
    {
      "cell_type": "markdown",
      "metadata": {
        "id": "tOGC-qoyhJeX"
      },
      "source": [
        "# <b><u> Project Title : Seoul Bike Sharing Demand Prediction </u></b>"
      ]
    },
    {
      "cell_type": "markdown",
      "metadata": {
        "id": "Y06xIdG26kRF"
      },
      "source": [
        "## <b> Problem Description </b>\n",
        "\n",
        "### Currently Rental bikes are introduced in many urban cities for the enhancement of mobility comfort. It is important to make the rental bike available and accessible to the public at the right time as it lessens the waiting time. Eventually, providing the city with a stable supply of rental bikes becomes a major concern. The crucial part is the prediction of bike count required at each hour for the stable supply of rental bikes.\n"
      ]
    },
    {
      "cell_type": "markdown",
      "metadata": {
        "id": "AlLxAtlziMbP"
      },
      "source": [
        "## <b> Data Description </b>\n",
        "\n",
        "### <b> The dataset contains weather information (Temperature, Humidity, Windspeed, Visibility, Dewpoint, Solar radiation, Snowfall, Rainfall), the number of bikes rented per hour and date information.</b>\n",
        "\n",
        "\n",
        "### <b>Attribute Information: </b>\n",
        "\n",
        "* ### Date : year-month-day\n",
        "* ### Rented Bike count - Count of bikes rented at each hour\n",
        "* ### Hour - Hour of he day\n",
        "* ### Temperature-Temperature in Celsius\n",
        "* ### Humidity - %\n",
        "* ### Windspeed - m/s\n",
        "* ### Visibility - 10m\n",
        "* ### Dew point temperature - Celsius\n",
        "* ### Solar radiation - MJ/m2\n",
        "* ### Rainfall - mm\n",
        "* ### Snowfall - cm\n",
        "* ### Seasons - Winter, Spring, Summer, Autumn\n",
        "* ### Holiday - Holiday/No holiday\n",
        "* ### Functional Day - NoFunc(Non Functional Hours), Fun(Functional hours)"
      ]
    },
    {
      "cell_type": "code",
      "source": [
        "import pandas as pd\n",
        "import matplotlib.pyplot as plt\n",
        "import seaborn as sns\n",
        "import numpy as np"
      ],
      "metadata": {
        "id": "yCDZ74s9mpO6"
      },
      "execution_count": null,
      "outputs": []
    },
    {
      "cell_type": "code",
      "source": [
        "from google.colab import files\n",
        "uploaded = files.upload()"
      ],
      "metadata": {
        "colab": {
          "resources": {
            "http://localhost:8080/nbextensions/google.colab/files.js": {
              "data": "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",
              "ok": true,
              "headers": [
                [
                  "content-type",
                  "application/javascript"
                ]
              ],
              "status": 200,
              "status_text": ""
            }
          },
          "base_uri": "https://localhost:8080/",
          "height": 74
        },
        "id": "Mdk0a7aE4gyT",
        "outputId": "4d0bf62f-c835-4dd4-dfdb-410effe60755"
      },
      "execution_count": null,
      "outputs": [
        {
          "output_type": "display_data",
          "data": {
            "text/plain": [
              "<IPython.core.display.HTML object>"
            ],
            "text/html": [
              "\n",
              "     <input type=\"file\" id=\"files-12fd4b8a-69cf-4129-9c8a-b12eeb32a000\" name=\"files[]\" multiple disabled\n",
              "        style=\"border:none\" />\n",
              "     <output id=\"result-12fd4b8a-69cf-4129-9c8a-b12eeb32a000\">\n",
              "      Upload widget is only available when the cell has been executed in the\n",
              "      current browser session. Please rerun this cell to enable.\n",
              "      </output>\n",
              "      <script src=\"/nbextensions/google.colab/files.js\"></script> "
            ]
          },
          "metadata": {}
        },
        {
          "output_type": "stream",
          "name": "stdout",
          "text": [
            "Saving SeoulBikeData.csv to SeoulBikeData.csv\n"
          ]
        }
      ]
    },
    {
      "cell_type": "code",
      "source": [
        "import pandas as pd\n",
        "data=pd.read_csv(\"/content/SeoulBikeData.csv\",encoding='latin1')\n",
        "print(data.head())"
      ],
      "metadata": {
        "colab": {
          "base_uri": "https://localhost:8080/"
        },
        "id": "b9yDEyjxmmy3",
        "outputId": "73397f07-6b2c-487f-f6f2-ee7f547e2560"
      },
      "execution_count": null,
      "outputs": [
        {
          "output_type": "stream",
          "name": "stdout",
          "text": [
            "         Date  Rented Bike Count  Hour  Temperature(°C)  Humidity(%)  \\\n",
            "0  01/12/2017                254     0             -5.2           37   \n",
            "1  01/12/2017                204     1             -5.5           38   \n",
            "2  01/12/2017                173     2             -6.0           39   \n",
            "3  01/12/2017                107     3             -6.2           40   \n",
            "4  01/12/2017                 78     4             -6.0           36   \n",
            "\n",
            "   Wind speed (m/s)  Visibility (10m)  Dew point temperature(°C)  \\\n",
            "0               2.2              2000                      -17.6   \n",
            "1               0.8              2000                      -17.6   \n",
            "2               1.0              2000                      -17.7   \n",
            "3               0.9              2000                      -17.6   \n",
            "4               2.3              2000                      -18.6   \n",
            "\n",
            "   Solar Radiation (MJ/m2)  Rainfall(mm)  Snowfall (cm) Seasons     Holiday  \\\n",
            "0                      0.0           0.0            0.0  Winter  No Holiday   \n",
            "1                      0.0           0.0            0.0  Winter  No Holiday   \n",
            "2                      0.0           0.0            0.0  Winter  No Holiday   \n",
            "3                      0.0           0.0            0.0  Winter  No Holiday   \n",
            "4                      0.0           0.0            0.0  Winter  No Holiday   \n",
            "\n",
            "  Functioning Day  \n",
            "0             Yes  \n",
            "1             Yes  \n",
            "2             Yes  \n",
            "3             Yes  \n",
            "4             Yes  \n"
          ]
        }
      ]
    },
    {
      "cell_type": "code",
      "source": [
        "data.head()"
      ],
      "metadata": {
        "colab": {
          "base_uri": "https://localhost:8080/",
          "height": 372
        },
        "id": "kEwq1yb1nvPJ",
        "outputId": "a6e43544-d078-4bee-ae17-c3f4a1b3211d"
      },
      "execution_count": null,
      "outputs": [
        {
          "output_type": "execute_result",
          "data": {
            "text/plain": [
              "         Date  Rented Bike Count  Hour  Temperature(°C)  Humidity(%)  \\\n",
              "0  01/12/2017                254     0             -5.2           37   \n",
              "1  01/12/2017                204     1             -5.5           38   \n",
              "2  01/12/2017                173     2             -6.0           39   \n",
              "3  01/12/2017                107     3             -6.2           40   \n",
              "4  01/12/2017                 78     4             -6.0           36   \n",
              "\n",
              "   Wind speed (m/s)  Visibility (10m)  Dew point temperature(°C)  \\\n",
              "0               2.2              2000                      -17.6   \n",
              "1               0.8              2000                      -17.6   \n",
              "2               1.0              2000                      -17.7   \n",
              "3               0.9              2000                      -17.6   \n",
              "4               2.3              2000                      -18.6   \n",
              "\n",
              "   Solar Radiation (MJ/m2)  Rainfall(mm)  Snowfall (cm) Seasons     Holiday  \\\n",
              "0                      0.0           0.0            0.0  Winter  No Holiday   \n",
              "1                      0.0           0.0            0.0  Winter  No Holiday   \n",
              "2                      0.0           0.0            0.0  Winter  No Holiday   \n",
              "3                      0.0           0.0            0.0  Winter  No Holiday   \n",
              "4                      0.0           0.0            0.0  Winter  No Holiday   \n",
              "\n",
              "  Functioning Day  \n",
              "0             Yes  \n",
              "1             Yes  \n",
              "2             Yes  \n",
              "3             Yes  \n",
              "4             Yes  "
            ],
            "text/html": [
              "\n",
              "  <div id=\"df-27c53a0e-06de-4575-8b62-bc722252330e\">\n",
              "    <div class=\"colab-df-container\">\n",
              "      <div>\n",
              "<style scoped>\n",
              "    .dataframe tbody tr th:only-of-type {\n",
              "        vertical-align: middle;\n",
              "    }\n",
              "\n",
              "    .dataframe tbody tr th {\n",
              "        vertical-align: top;\n",
              "    }\n",
              "\n",
              "    .dataframe thead th {\n",
              "        text-align: right;\n",
              "    }\n",
              "</style>\n",
              "<table border=\"1\" class=\"dataframe\">\n",
              "  <thead>\n",
              "    <tr style=\"text-align: right;\">\n",
              "      <th></th>\n",
              "      <th>Date</th>\n",
              "      <th>Rented Bike Count</th>\n",
              "      <th>Hour</th>\n",
              "      <th>Temperature(°C)</th>\n",
              "      <th>Humidity(%)</th>\n",
              "      <th>Wind speed (m/s)</th>\n",
              "      <th>Visibility (10m)</th>\n",
              "      <th>Dew point temperature(°C)</th>\n",
              "      <th>Solar Radiation (MJ/m2)</th>\n",
              "      <th>Rainfall(mm)</th>\n",
              "      <th>Snowfall (cm)</th>\n",
              "      <th>Seasons</th>\n",
              "      <th>Holiday</th>\n",
              "      <th>Functioning Day</th>\n",
              "    </tr>\n",
              "  </thead>\n",
              "  <tbody>\n",
              "    <tr>\n",
              "      <th>0</th>\n",
              "      <td>01/12/2017</td>\n",
              "      <td>254</td>\n",
              "      <td>0</td>\n",
              "      <td>-5.2</td>\n",
              "      <td>37</td>\n",
              "      <td>2.2</td>\n",
              "      <td>2000</td>\n",
              "      <td>-17.6</td>\n",
              "      <td>0.0</td>\n",
              "      <td>0.0</td>\n",
              "      <td>0.0</td>\n",
              "      <td>Winter</td>\n",
              "      <td>No Holiday</td>\n",
              "      <td>Yes</td>\n",
              "    </tr>\n",
              "    <tr>\n",
              "      <th>1</th>\n",
              "      <td>01/12/2017</td>\n",
              "      <td>204</td>\n",
              "      <td>1</td>\n",
              "      <td>-5.5</td>\n",
              "      <td>38</td>\n",
              "      <td>0.8</td>\n",
              "      <td>2000</td>\n",
              "      <td>-17.6</td>\n",
              "      <td>0.0</td>\n",
              "      <td>0.0</td>\n",
              "      <td>0.0</td>\n",
              "      <td>Winter</td>\n",
              "      <td>No Holiday</td>\n",
              "      <td>Yes</td>\n",
              "    </tr>\n",
              "    <tr>\n",
              "      <th>2</th>\n",
              "      <td>01/12/2017</td>\n",
              "      <td>173</td>\n",
              "      <td>2</td>\n",
              "      <td>-6.0</td>\n",
              "      <td>39</td>\n",
              "      <td>1.0</td>\n",
              "      <td>2000</td>\n",
              "      <td>-17.7</td>\n",
              "      <td>0.0</td>\n",
              "      <td>0.0</td>\n",
              "      <td>0.0</td>\n",
              "      <td>Winter</td>\n",
              "      <td>No Holiday</td>\n",
              "      <td>Yes</td>\n",
              "    </tr>\n",
              "    <tr>\n",
              "      <th>3</th>\n",
              "      <td>01/12/2017</td>\n",
              "      <td>107</td>\n",
              "      <td>3</td>\n",
              "      <td>-6.2</td>\n",
              "      <td>40</td>\n",
              "      <td>0.9</td>\n",
              "      <td>2000</td>\n",
              "      <td>-17.6</td>\n",
              "      <td>0.0</td>\n",
              "      <td>0.0</td>\n",
              "      <td>0.0</td>\n",
              "      <td>Winter</td>\n",
              "      <td>No Holiday</td>\n",
              "      <td>Yes</td>\n",
              "    </tr>\n",
              "    <tr>\n",
              "      <th>4</th>\n",
              "      <td>01/12/2017</td>\n",
              "      <td>78</td>\n",
              "      <td>4</td>\n",
              "      <td>-6.0</td>\n",
              "      <td>36</td>\n",
              "      <td>2.3</td>\n",
              "      <td>2000</td>\n",
              "      <td>-18.6</td>\n",
              "      <td>0.0</td>\n",
              "      <td>0.0</td>\n",
              "      <td>0.0</td>\n",
              "      <td>Winter</td>\n",
              "      <td>No Holiday</td>\n",
              "      <td>Yes</td>\n",
              "    </tr>\n",
              "  </tbody>\n",
              "</table>\n",
              "</div>\n",
              "      <button class=\"colab-df-convert\" onclick=\"convertToInteractive('df-27c53a0e-06de-4575-8b62-bc722252330e')\"\n",
              "              title=\"Convert this dataframe to an interactive table.\"\n",
              "              style=\"display:none;\">\n",
              "        \n",
              "  <svg xmlns=\"http://www.w3.org/2000/svg\" height=\"24px\"viewBox=\"0 0 24 24\"\n",
              "       width=\"24px\">\n",
              "    <path d=\"M0 0h24v24H0V0z\" fill=\"none\"/>\n",
              "    <path d=\"M18.56 5.44l.94 2.06.94-2.06 2.06-.94-2.06-.94-.94-2.06-.94 2.06-2.06.94zm-11 1L8.5 8.5l.94-2.06 2.06-.94-2.06-.94L8.5 2.5l-.94 2.06-2.06.94zm10 10l.94 2.06.94-2.06 2.06-.94-2.06-.94-.94-2.06-.94 2.06-2.06.94z\"/><path d=\"M17.41 7.96l-1.37-1.37c-.4-.4-.92-.59-1.43-.59-.52 0-1.04.2-1.43.59L10.3 9.45l-7.72 7.72c-.78.78-.78 2.05 0 2.83L4 21.41c.39.39.9.59 1.41.59.51 0 1.02-.2 1.41-.59l7.78-7.78 2.81-2.81c.8-.78.8-2.07 0-2.86zM5.41 20L4 18.59l7.72-7.72 1.47 1.35L5.41 20z\"/>\n",
              "  </svg>\n",
              "      </button>\n",
              "      \n",
              "  <style>\n",
              "    .colab-df-container {\n",
              "      display:flex;\n",
              "      flex-wrap:wrap;\n",
              "      gap: 12px;\n",
              "    }\n",
              "\n",
              "    .colab-df-convert {\n",
              "      background-color: #E8F0FE;\n",
              "      border: none;\n",
              "      border-radius: 50%;\n",
              "      cursor: pointer;\n",
              "      display: none;\n",
              "      fill: #1967D2;\n",
              "      height: 32px;\n",
              "      padding: 0 0 0 0;\n",
              "      width: 32px;\n",
              "    }\n",
              "\n",
              "    .colab-df-convert:hover {\n",
              "      background-color: #E2EBFA;\n",
              "      box-shadow: 0px 1px 2px rgba(60, 64, 67, 0.3), 0px 1px 3px 1px rgba(60, 64, 67, 0.15);\n",
              "      fill: #174EA6;\n",
              "    }\n",
              "\n",
              "    [theme=dark] .colab-df-convert {\n",
              "      background-color: #3B4455;\n",
              "      fill: #D2E3FC;\n",
              "    }\n",
              "\n",
              "    [theme=dark] .colab-df-convert:hover {\n",
              "      background-color: #434B5C;\n",
              "      box-shadow: 0px 1px 3px 1px rgba(0, 0, 0, 0.15);\n",
              "      filter: drop-shadow(0px 1px 2px rgba(0, 0, 0, 0.3));\n",
              "      fill: #FFFFFF;\n",
              "    }\n",
              "  </style>\n",
              "\n",
              "      <script>\n",
              "        const buttonEl =\n",
              "          document.querySelector('#df-27c53a0e-06de-4575-8b62-bc722252330e button.colab-df-convert');\n",
              "        buttonEl.style.display =\n",
              "          google.colab.kernel.accessAllowed ? 'block' : 'none';\n",
              "\n",
              "        async function convertToInteractive(key) {\n",
              "          const element = document.querySelector('#df-27c53a0e-06de-4575-8b62-bc722252330e');\n",
              "          const dataTable =\n",
              "            await google.colab.kernel.invokeFunction('convertToInteractive',\n",
              "                                                     [key], {});\n",
              "          if (!dataTable) return;\n",
              "\n",
              "          const docLinkHtml = 'Like what you see? Visit the ' +\n",
              "            '<a target=\"_blank\" href=https://colab.research.google.com/notebooks/data_table.ipynb>data table notebook</a>'\n",
              "            + ' to learn more about interactive tables.';\n",
              "          element.innerHTML = '';\n",
              "          dataTable['output_type'] = 'display_data';\n",
              "          await google.colab.output.renderOutput(dataTable, element);\n",
              "          const docLink = document.createElement('div');\n",
              "          docLink.innerHTML = docLinkHtml;\n",
              "          element.appendChild(docLink);\n",
              "        }\n",
              "      </script>\n",
              "    </div>\n",
              "  </div>\n",
              "  "
            ]
          },
          "metadata": {},
          "execution_count": 10
        }
      ]
    },
    {
      "cell_type": "code",
      "source": [
        "data.tail()"
      ],
      "metadata": {
        "colab": {
          "base_uri": "https://localhost:8080/",
          "height": 372
        },
        "id": "QdisdJ0kn2YG",
        "outputId": "85152166-4a00-45ad-f95a-0da6306f5a2e"
      },
      "execution_count": null,
      "outputs": [
        {
          "output_type": "execute_result",
          "data": {
            "text/plain": [
              "            Date  Rented Bike Count  Hour  Temperature(°C)  Humidity(%)  \\\n",
              "8755  30/11/2018               1003    19              4.2           34   \n",
              "8756  30/11/2018                764    20              3.4           37   \n",
              "8757  30/11/2018                694    21              2.6           39   \n",
              "8758  30/11/2018                712    22              2.1           41   \n",
              "8759  30/11/2018                584    23              1.9           43   \n",
              "\n",
              "      Wind speed (m/s)  Visibility (10m)  Dew point temperature(°C)  \\\n",
              "8755               2.6              1894                      -10.3   \n",
              "8756               2.3              2000                       -9.9   \n",
              "8757               0.3              1968                       -9.9   \n",
              "8758               1.0              1859                       -9.8   \n",
              "8759               1.3              1909                       -9.3   \n",
              "\n",
              "      Solar Radiation (MJ/m2)  Rainfall(mm)  Snowfall (cm) Seasons  \\\n",
              "8755                      0.0           0.0            0.0  Autumn   \n",
              "8756                      0.0           0.0            0.0  Autumn   \n",
              "8757                      0.0           0.0            0.0  Autumn   \n",
              "8758                      0.0           0.0            0.0  Autumn   \n",
              "8759                      0.0           0.0            0.0  Autumn   \n",
              "\n",
              "         Holiday Functioning Day  \n",
              "8755  No Holiday             Yes  \n",
              "8756  No Holiday             Yes  \n",
              "8757  No Holiday             Yes  \n",
              "8758  No Holiday             Yes  \n",
              "8759  No Holiday             Yes  "
            ],
            "text/html": [
              "\n",
              "  <div id=\"df-6b39595a-37b7-4895-ad38-a8684a0ec7ce\">\n",
              "    <div class=\"colab-df-container\">\n",
              "      <div>\n",
              "<style scoped>\n",
              "    .dataframe tbody tr th:only-of-type {\n",
              "        vertical-align: middle;\n",
              "    }\n",
              "\n",
              "    .dataframe tbody tr th {\n",
              "        vertical-align: top;\n",
              "    }\n",
              "\n",
              "    .dataframe thead th {\n",
              "        text-align: right;\n",
              "    }\n",
              "</style>\n",
              "<table border=\"1\" class=\"dataframe\">\n",
              "  <thead>\n",
              "    <tr style=\"text-align: right;\">\n",
              "      <th></th>\n",
              "      <th>Date</th>\n",
              "      <th>Rented Bike Count</th>\n",
              "      <th>Hour</th>\n",
              "      <th>Temperature(°C)</th>\n",
              "      <th>Humidity(%)</th>\n",
              "      <th>Wind speed (m/s)</th>\n",
              "      <th>Visibility (10m)</th>\n",
              "      <th>Dew point temperature(°C)</th>\n",
              "      <th>Solar Radiation (MJ/m2)</th>\n",
              "      <th>Rainfall(mm)</th>\n",
              "      <th>Snowfall (cm)</th>\n",
              "      <th>Seasons</th>\n",
              "      <th>Holiday</th>\n",
              "      <th>Functioning Day</th>\n",
              "    </tr>\n",
              "  </thead>\n",
              "  <tbody>\n",
              "    <tr>\n",
              "      <th>8755</th>\n",
              "      <td>30/11/2018</td>\n",
              "      <td>1003</td>\n",
              "      <td>19</td>\n",
              "      <td>4.2</td>\n",
              "      <td>34</td>\n",
              "      <td>2.6</td>\n",
              "      <td>1894</td>\n",
              "      <td>-10.3</td>\n",
              "      <td>0.0</td>\n",
              "      <td>0.0</td>\n",
              "      <td>0.0</td>\n",
              "      <td>Autumn</td>\n",
              "      <td>No Holiday</td>\n",
              "      <td>Yes</td>\n",
              "    </tr>\n",
              "    <tr>\n",
              "      <th>8756</th>\n",
              "      <td>30/11/2018</td>\n",
              "      <td>764</td>\n",
              "      <td>20</td>\n",
              "      <td>3.4</td>\n",
              "      <td>37</td>\n",
              "      <td>2.3</td>\n",
              "      <td>2000</td>\n",
              "      <td>-9.9</td>\n",
              "      <td>0.0</td>\n",
              "      <td>0.0</td>\n",
              "      <td>0.0</td>\n",
              "      <td>Autumn</td>\n",
              "      <td>No Holiday</td>\n",
              "      <td>Yes</td>\n",
              "    </tr>\n",
              "    <tr>\n",
              "      <th>8757</th>\n",
              "      <td>30/11/2018</td>\n",
              "      <td>694</td>\n",
              "      <td>21</td>\n",
              "      <td>2.6</td>\n",
              "      <td>39</td>\n",
              "      <td>0.3</td>\n",
              "      <td>1968</td>\n",
              "      <td>-9.9</td>\n",
              "      <td>0.0</td>\n",
              "      <td>0.0</td>\n",
              "      <td>0.0</td>\n",
              "      <td>Autumn</td>\n",
              "      <td>No Holiday</td>\n",
              "      <td>Yes</td>\n",
              "    </tr>\n",
              "    <tr>\n",
              "      <th>8758</th>\n",
              "      <td>30/11/2018</td>\n",
              "      <td>712</td>\n",
              "      <td>22</td>\n",
              "      <td>2.1</td>\n",
              "      <td>41</td>\n",
              "      <td>1.0</td>\n",
              "      <td>1859</td>\n",
              "      <td>-9.8</td>\n",
              "      <td>0.0</td>\n",
              "      <td>0.0</td>\n",
              "      <td>0.0</td>\n",
              "      <td>Autumn</td>\n",
              "      <td>No Holiday</td>\n",
              "      <td>Yes</td>\n",
              "    </tr>\n",
              "    <tr>\n",
              "      <th>8759</th>\n",
              "      <td>30/11/2018</td>\n",
              "      <td>584</td>\n",
              "      <td>23</td>\n",
              "      <td>1.9</td>\n",
              "      <td>43</td>\n",
              "      <td>1.3</td>\n",
              "      <td>1909</td>\n",
              "      <td>-9.3</td>\n",
              "      <td>0.0</td>\n",
              "      <td>0.0</td>\n",
              "      <td>0.0</td>\n",
              "      <td>Autumn</td>\n",
              "      <td>No Holiday</td>\n",
              "      <td>Yes</td>\n",
              "    </tr>\n",
              "  </tbody>\n",
              "</table>\n",
              "</div>\n",
              "      <button class=\"colab-df-convert\" onclick=\"convertToInteractive('df-6b39595a-37b7-4895-ad38-a8684a0ec7ce')\"\n",
              "              title=\"Convert this dataframe to an interactive table.\"\n",
              "              style=\"display:none;\">\n",
              "        \n",
              "  <svg xmlns=\"http://www.w3.org/2000/svg\" height=\"24px\"viewBox=\"0 0 24 24\"\n",
              "       width=\"24px\">\n",
              "    <path d=\"M0 0h24v24H0V0z\" fill=\"none\"/>\n",
              "    <path d=\"M18.56 5.44l.94 2.06.94-2.06 2.06-.94-2.06-.94-.94-2.06-.94 2.06-2.06.94zm-11 1L8.5 8.5l.94-2.06 2.06-.94-2.06-.94L8.5 2.5l-.94 2.06-2.06.94zm10 10l.94 2.06.94-2.06 2.06-.94-2.06-.94-.94-2.06-.94 2.06-2.06.94z\"/><path d=\"M17.41 7.96l-1.37-1.37c-.4-.4-.92-.59-1.43-.59-.52 0-1.04.2-1.43.59L10.3 9.45l-7.72 7.72c-.78.78-.78 2.05 0 2.83L4 21.41c.39.39.9.59 1.41.59.51 0 1.02-.2 1.41-.59l7.78-7.78 2.81-2.81c.8-.78.8-2.07 0-2.86zM5.41 20L4 18.59l7.72-7.72 1.47 1.35L5.41 20z\"/>\n",
              "  </svg>\n",
              "      </button>\n",
              "      \n",
              "  <style>\n",
              "    .colab-df-container {\n",
              "      display:flex;\n",
              "      flex-wrap:wrap;\n",
              "      gap: 12px;\n",
              "    }\n",
              "\n",
              "    .colab-df-convert {\n",
              "      background-color: #E8F0FE;\n",
              "      border: none;\n",
              "      border-radius: 50%;\n",
              "      cursor: pointer;\n",
              "      display: none;\n",
              "      fill: #1967D2;\n",
              "      height: 32px;\n",
              "      padding: 0 0 0 0;\n",
              "      width: 32px;\n",
              "    }\n",
              "\n",
              "    .colab-df-convert:hover {\n",
              "      background-color: #E2EBFA;\n",
              "      box-shadow: 0px 1px 2px rgba(60, 64, 67, 0.3), 0px 1px 3px 1px rgba(60, 64, 67, 0.15);\n",
              "      fill: #174EA6;\n",
              "    }\n",
              "\n",
              "    [theme=dark] .colab-df-convert {\n",
              "      background-color: #3B4455;\n",
              "      fill: #D2E3FC;\n",
              "    }\n",
              "\n",
              "    [theme=dark] .colab-df-convert:hover {\n",
              "      background-color: #434B5C;\n",
              "      box-shadow: 0px 1px 3px 1px rgba(0, 0, 0, 0.15);\n",
              "      filter: drop-shadow(0px 1px 2px rgba(0, 0, 0, 0.3));\n",
              "      fill: #FFFFFF;\n",
              "    }\n",
              "  </style>\n",
              "\n",
              "      <script>\n",
              "        const buttonEl =\n",
              "          document.querySelector('#df-6b39595a-37b7-4895-ad38-a8684a0ec7ce button.colab-df-convert');\n",
              "        buttonEl.style.display =\n",
              "          google.colab.kernel.accessAllowed ? 'block' : 'none';\n",
              "\n",
              "        async function convertToInteractive(key) {\n",
              "          const element = document.querySelector('#df-6b39595a-37b7-4895-ad38-a8684a0ec7ce');\n",
              "          const dataTable =\n",
              "            await google.colab.kernel.invokeFunction('convertToInteractive',\n",
              "                                                     [key], {});\n",
              "          if (!dataTable) return;\n",
              "\n",
              "          const docLinkHtml = 'Like what you see? Visit the ' +\n",
              "            '<a target=\"_blank\" href=https://colab.research.google.com/notebooks/data_table.ipynb>data table notebook</a>'\n",
              "            + ' to learn more about interactive tables.';\n",
              "          element.innerHTML = '';\n",
              "          dataTable['output_type'] = 'display_data';\n",
              "          await google.colab.output.renderOutput(dataTable, element);\n",
              "          const docLink = document.createElement('div');\n",
              "          docLink.innerHTML = docLinkHtml;\n",
              "          element.appendChild(docLink);\n",
              "        }\n",
              "      </script>\n",
              "    </div>\n",
              "  </div>\n",
              "  "
            ]
          },
          "metadata": {},
          "execution_count": 11
        }
      ]
    },
    {
      "cell_type": "code",
      "source": [
        "data.columns"
      ],
      "metadata": {
        "colab": {
          "base_uri": "https://localhost:8080/"
        },
        "id": "A6fi_Mrdo1qF",
        "outputId": "2839f664-e517-4ec4-ebea-c3e2cb200f4e"
      },
      "execution_count": null,
      "outputs": [
        {
          "output_type": "execute_result",
          "data": {
            "text/plain": [
              "Index(['Date', 'Rented Bike Count', 'Hour', 'Temperature(°C)', 'Humidity(%)',\n",
              "       'Wind speed (m/s)', 'Visibility (10m)', 'Dew point temperature(°C)',\n",
              "       'Solar Radiation (MJ/m2)', 'Rainfall(mm)', 'Snowfall (cm)', 'Seasons',\n",
              "       'Holiday', 'Functioning Day'],\n",
              "      dtype='object')"
            ]
          },
          "metadata": {},
          "execution_count": 12
        }
      ]
    },
    {
      "cell_type": "code",
      "source": [
        "data.describe()"
      ],
      "metadata": {
        "colab": {
          "base_uri": "https://localhost:8080/",
          "height": 344
        },
        "id": "_Eqzlmreo60H",
        "outputId": "ad33c341-4a8a-4af7-aea8-e2064cf32135"
      },
      "execution_count": null,
      "outputs": [
        {
          "output_type": "execute_result",
          "data": {
            "text/plain": [
              "       Rented Bike Count         Hour  Temperature(°C)  Humidity(%)  \\\n",
              "count        8760.000000  8760.000000      8760.000000  8760.000000   \n",
              "mean          704.602055    11.500000        12.882922    58.226256   \n",
              "std           644.997468     6.922582        11.944825    20.362413   \n",
              "min             0.000000     0.000000       -17.800000     0.000000   \n",
              "25%           191.000000     5.750000         3.500000    42.000000   \n",
              "50%           504.500000    11.500000        13.700000    57.000000   \n",
              "75%          1065.250000    17.250000        22.500000    74.000000   \n",
              "max          3556.000000    23.000000        39.400000    98.000000   \n",
              "\n",
              "       Wind speed (m/s)  Visibility (10m)  Dew point temperature(°C)  \\\n",
              "count       8760.000000       8760.000000                8760.000000   \n",
              "mean           1.724909       1436.825799                   4.073813   \n",
              "std            1.036300        608.298712                  13.060369   \n",
              "min            0.000000         27.000000                 -30.600000   \n",
              "25%            0.900000        940.000000                  -4.700000   \n",
              "50%            1.500000       1698.000000                   5.100000   \n",
              "75%            2.300000       2000.000000                  14.800000   \n",
              "max            7.400000       2000.000000                  27.200000   \n",
              "\n",
              "       Solar Radiation (MJ/m2)  Rainfall(mm)  Snowfall (cm)  \n",
              "count              8760.000000   8760.000000    8760.000000  \n",
              "mean                  0.569111      0.148687       0.075068  \n",
              "std                   0.868746      1.128193       0.436746  \n",
              "min                   0.000000      0.000000       0.000000  \n",
              "25%                   0.000000      0.000000       0.000000  \n",
              "50%                   0.010000      0.000000       0.000000  \n",
              "75%                   0.930000      0.000000       0.000000  \n",
              "max                   3.520000     35.000000       8.800000  "
            ],
            "text/html": [
              "\n",
              "  <div id=\"df-a423c70c-d5cb-412c-94d5-b92136477eaa\">\n",
              "    <div class=\"colab-df-container\">\n",
              "      <div>\n",
              "<style scoped>\n",
              "    .dataframe tbody tr th:only-of-type {\n",
              "        vertical-align: middle;\n",
              "    }\n",
              "\n",
              "    .dataframe tbody tr th {\n",
              "        vertical-align: top;\n",
              "    }\n",
              "\n",
              "    .dataframe thead th {\n",
              "        text-align: right;\n",
              "    }\n",
              "</style>\n",
              "<table border=\"1\" class=\"dataframe\">\n",
              "  <thead>\n",
              "    <tr style=\"text-align: right;\">\n",
              "      <th></th>\n",
              "      <th>Rented Bike Count</th>\n",
              "      <th>Hour</th>\n",
              "      <th>Temperature(°C)</th>\n",
              "      <th>Humidity(%)</th>\n",
              "      <th>Wind speed (m/s)</th>\n",
              "      <th>Visibility (10m)</th>\n",
              "      <th>Dew point temperature(°C)</th>\n",
              "      <th>Solar Radiation (MJ/m2)</th>\n",
              "      <th>Rainfall(mm)</th>\n",
              "      <th>Snowfall (cm)</th>\n",
              "    </tr>\n",
              "  </thead>\n",
              "  <tbody>\n",
              "    <tr>\n",
              "      <th>count</th>\n",
              "      <td>8760.000000</td>\n",
              "      <td>8760.000000</td>\n",
              "      <td>8760.000000</td>\n",
              "      <td>8760.000000</td>\n",
              "      <td>8760.000000</td>\n",
              "      <td>8760.000000</td>\n",
              "      <td>8760.000000</td>\n",
              "      <td>8760.000000</td>\n",
              "      <td>8760.000000</td>\n",
              "      <td>8760.000000</td>\n",
              "    </tr>\n",
              "    <tr>\n",
              "      <th>mean</th>\n",
              "      <td>704.602055</td>\n",
              "      <td>11.500000</td>\n",
              "      <td>12.882922</td>\n",
              "      <td>58.226256</td>\n",
              "      <td>1.724909</td>\n",
              "      <td>1436.825799</td>\n",
              "      <td>4.073813</td>\n",
              "      <td>0.569111</td>\n",
              "      <td>0.148687</td>\n",
              "      <td>0.075068</td>\n",
              "    </tr>\n",
              "    <tr>\n",
              "      <th>std</th>\n",
              "      <td>644.997468</td>\n",
              "      <td>6.922582</td>\n",
              "      <td>11.944825</td>\n",
              "      <td>20.362413</td>\n",
              "      <td>1.036300</td>\n",
              "      <td>608.298712</td>\n",
              "      <td>13.060369</td>\n",
              "      <td>0.868746</td>\n",
              "      <td>1.128193</td>\n",
              "      <td>0.436746</td>\n",
              "    </tr>\n",
              "    <tr>\n",
              "      <th>min</th>\n",
              "      <td>0.000000</td>\n",
              "      <td>0.000000</td>\n",
              "      <td>-17.800000</td>\n",
              "      <td>0.000000</td>\n",
              "      <td>0.000000</td>\n",
              "      <td>27.000000</td>\n",
              "      <td>-30.600000</td>\n",
              "      <td>0.000000</td>\n",
              "      <td>0.000000</td>\n",
              "      <td>0.000000</td>\n",
              "    </tr>\n",
              "    <tr>\n",
              "      <th>25%</th>\n",
              "      <td>191.000000</td>\n",
              "      <td>5.750000</td>\n",
              "      <td>3.500000</td>\n",
              "      <td>42.000000</td>\n",
              "      <td>0.900000</td>\n",
              "      <td>940.000000</td>\n",
              "      <td>-4.700000</td>\n",
              "      <td>0.000000</td>\n",
              "      <td>0.000000</td>\n",
              "      <td>0.000000</td>\n",
              "    </tr>\n",
              "    <tr>\n",
              "      <th>50%</th>\n",
              "      <td>504.500000</td>\n",
              "      <td>11.500000</td>\n",
              "      <td>13.700000</td>\n",
              "      <td>57.000000</td>\n",
              "      <td>1.500000</td>\n",
              "      <td>1698.000000</td>\n",
              "      <td>5.100000</td>\n",
              "      <td>0.010000</td>\n",
              "      <td>0.000000</td>\n",
              "      <td>0.000000</td>\n",
              "    </tr>\n",
              "    <tr>\n",
              "      <th>75%</th>\n",
              "      <td>1065.250000</td>\n",
              "      <td>17.250000</td>\n",
              "      <td>22.500000</td>\n",
              "      <td>74.000000</td>\n",
              "      <td>2.300000</td>\n",
              "      <td>2000.000000</td>\n",
              "      <td>14.800000</td>\n",
              "      <td>0.930000</td>\n",
              "      <td>0.000000</td>\n",
              "      <td>0.000000</td>\n",
              "    </tr>\n",
              "    <tr>\n",
              "      <th>max</th>\n",
              "      <td>3556.000000</td>\n",
              "      <td>23.000000</td>\n",
              "      <td>39.400000</td>\n",
              "      <td>98.000000</td>\n",
              "      <td>7.400000</td>\n",
              "      <td>2000.000000</td>\n",
              "      <td>27.200000</td>\n",
              "      <td>3.520000</td>\n",
              "      <td>35.000000</td>\n",
              "      <td>8.800000</td>\n",
              "    </tr>\n",
              "  </tbody>\n",
              "</table>\n",
              "</div>\n",
              "      <button class=\"colab-df-convert\" onclick=\"convertToInteractive('df-a423c70c-d5cb-412c-94d5-b92136477eaa')\"\n",
              "              title=\"Convert this dataframe to an interactive table.\"\n",
              "              style=\"display:none;\">\n",
              "        \n",
              "  <svg xmlns=\"http://www.w3.org/2000/svg\" height=\"24px\"viewBox=\"0 0 24 24\"\n",
              "       width=\"24px\">\n",
              "    <path d=\"M0 0h24v24H0V0z\" fill=\"none\"/>\n",
              "    <path d=\"M18.56 5.44l.94 2.06.94-2.06 2.06-.94-2.06-.94-.94-2.06-.94 2.06-2.06.94zm-11 1L8.5 8.5l.94-2.06 2.06-.94-2.06-.94L8.5 2.5l-.94 2.06-2.06.94zm10 10l.94 2.06.94-2.06 2.06-.94-2.06-.94-.94-2.06-.94 2.06-2.06.94z\"/><path d=\"M17.41 7.96l-1.37-1.37c-.4-.4-.92-.59-1.43-.59-.52 0-1.04.2-1.43.59L10.3 9.45l-7.72 7.72c-.78.78-.78 2.05 0 2.83L4 21.41c.39.39.9.59 1.41.59.51 0 1.02-.2 1.41-.59l7.78-7.78 2.81-2.81c.8-.78.8-2.07 0-2.86zM5.41 20L4 18.59l7.72-7.72 1.47 1.35L5.41 20z\"/>\n",
              "  </svg>\n",
              "      </button>\n",
              "      \n",
              "  <style>\n",
              "    .colab-df-container {\n",
              "      display:flex;\n",
              "      flex-wrap:wrap;\n",
              "      gap: 12px;\n",
              "    }\n",
              "\n",
              "    .colab-df-convert {\n",
              "      background-color: #E8F0FE;\n",
              "      border: none;\n",
              "      border-radius: 50%;\n",
              "      cursor: pointer;\n",
              "      display: none;\n",
              "      fill: #1967D2;\n",
              "      height: 32px;\n",
              "      padding: 0 0 0 0;\n",
              "      width: 32px;\n",
              "    }\n",
              "\n",
              "    .colab-df-convert:hover {\n",
              "      background-color: #E2EBFA;\n",
              "      box-shadow: 0px 1px 2px rgba(60, 64, 67, 0.3), 0px 1px 3px 1px rgba(60, 64, 67, 0.15);\n",
              "      fill: #174EA6;\n",
              "    }\n",
              "\n",
              "    [theme=dark] .colab-df-convert {\n",
              "      background-color: #3B4455;\n",
              "      fill: #D2E3FC;\n",
              "    }\n",
              "\n",
              "    [theme=dark] .colab-df-convert:hover {\n",
              "      background-color: #434B5C;\n",
              "      box-shadow: 0px 1px 3px 1px rgba(0, 0, 0, 0.15);\n",
              "      filter: drop-shadow(0px 1px 2px rgba(0, 0, 0, 0.3));\n",
              "      fill: #FFFFFF;\n",
              "    }\n",
              "  </style>\n",
              "\n",
              "      <script>\n",
              "        const buttonEl =\n",
              "          document.querySelector('#df-a423c70c-d5cb-412c-94d5-b92136477eaa button.colab-df-convert');\n",
              "        buttonEl.style.display =\n",
              "          google.colab.kernel.accessAllowed ? 'block' : 'none';\n",
              "\n",
              "        async function convertToInteractive(key) {\n",
              "          const element = document.querySelector('#df-a423c70c-d5cb-412c-94d5-b92136477eaa');\n",
              "          const dataTable =\n",
              "            await google.colab.kernel.invokeFunction('convertToInteractive',\n",
              "                                                     [key], {});\n",
              "          if (!dataTable) return;\n",
              "\n",
              "          const docLinkHtml = 'Like what you see? Visit the ' +\n",
              "            '<a target=\"_blank\" href=https://colab.research.google.com/notebooks/data_table.ipynb>data table notebook</a>'\n",
              "            + ' to learn more about interactive tables.';\n",
              "          element.innerHTML = '';\n",
              "          dataTable['output_type'] = 'display_data';\n",
              "          await google.colab.output.renderOutput(dataTable, element);\n",
              "          const docLink = document.createElement('div');\n",
              "          docLink.innerHTML = docLinkHtml;\n",
              "          element.appendChild(docLink);\n",
              "        }\n",
              "      </script>\n",
              "    </div>\n",
              "  </div>\n",
              "  "
            ]
          },
          "metadata": {},
          "execution_count": 13
        }
      ]
    },
    {
      "cell_type": "code",
      "source": [
        "data.info()"
      ],
      "metadata": {
        "colab": {
          "base_uri": "https://localhost:8080/"
        },
        "id": "wWn2YKYEo_0P",
        "outputId": "9f4657ea-cef9-47ae-f50b-d377b39b75a5"
      },
      "execution_count": null,
      "outputs": [
        {
          "output_type": "stream",
          "name": "stdout",
          "text": [
            "<class 'pandas.core.frame.DataFrame'>\n",
            "RangeIndex: 8760 entries, 0 to 8759\n",
            "Data columns (total 14 columns):\n",
            " #   Column                     Non-Null Count  Dtype  \n",
            "---  ------                     --------------  -----  \n",
            " 0   Date                       8760 non-null   object \n",
            " 1   Rented Bike Count          8760 non-null   int64  \n",
            " 2   Hour                       8760 non-null   int64  \n",
            " 3   Temperature(°C)            8760 non-null   float64\n",
            " 4   Humidity(%)                8760 non-null   int64  \n",
            " 5   Wind speed (m/s)           8760 non-null   float64\n",
            " 6   Visibility (10m)           8760 non-null   int64  \n",
            " 7   Dew point temperature(°C)  8760 non-null   float64\n",
            " 8   Solar Radiation (MJ/m2)    8760 non-null   float64\n",
            " 9   Rainfall(mm)               8760 non-null   float64\n",
            " 10  Snowfall (cm)              8760 non-null   float64\n",
            " 11  Seasons                    8760 non-null   object \n",
            " 12  Holiday                    8760 non-null   object \n",
            " 13  Functioning Day            8760 non-null   object \n",
            "dtypes: float64(6), int64(4), object(4)\n",
            "memory usage: 958.2+ KB\n"
          ]
        }
      ]
    },
    {
      "cell_type": "code",
      "source": [
        "data.isnull().sum()"
      ],
      "metadata": {
        "colab": {
          "base_uri": "https://localhost:8080/"
        },
        "id": "rl4RP3RHpDbb",
        "outputId": "cec8e9a7-b36a-42f9-bbde-4f10ab5d63f2"
      },
      "execution_count": null,
      "outputs": [
        {
          "output_type": "execute_result",
          "data": {
            "text/plain": [
              "Date                         0\n",
              "Rented Bike Count            0\n",
              "Hour                         0\n",
              "Temperature(°C)              0\n",
              "Humidity(%)                  0\n",
              "Wind speed (m/s)             0\n",
              "Visibility (10m)             0\n",
              "Dew point temperature(°C)    0\n",
              "Solar Radiation (MJ/m2)      0\n",
              "Rainfall(mm)                 0\n",
              "Snowfall (cm)                0\n",
              "Seasons                      0\n",
              "Holiday                      0\n",
              "Functioning Day              0\n",
              "dtype: int64"
            ]
          },
          "metadata": {},
          "execution_count": 15
        }
      ]
    },
    {
      "cell_type": "markdown",
      "source": [
        "as we can see there is no any null value by this we can say the dataset is balanced"
      ],
      "metadata": {
        "id": "kK82BGJwpQqW"
      }
    },
    {
      "cell_type": "code",
      "source": [
        "# Converting the Data column in Datetime Dtype\n",
        "data['Date']=pd.to_datetime(data['Date'])"
      ],
      "metadata": {
        "id": "2IhPIf0ypfY_"
      },
      "execution_count": null,
      "outputs": []
    },
    {
      "cell_type": "code",
      "source": [
        "# Breaking Down the Date into 3 Components\n",
        "data['Day']=data['Date'].dt.day\n",
        "data['month']=data['Date'].dt.month\n",
        "data['year']=data['Date'].dt.year"
      ],
      "metadata": {
        "id": "OTpLlrFYqe5a"
      },
      "execution_count": null,
      "outputs": []
    },
    {
      "cell_type": "code",
      "source": [],
      "metadata": {
        "id": "UPY20b4srMK6"
      },
      "execution_count": null,
      "outputs": []
    },
    {
      "cell_type": "markdown",
      "source": [
        "# **Univariate** **Analysis**"
      ],
      "metadata": {
        "id": "tN9DEia7rQh2"
      }
    },
    {
      "cell_type": "code",
      "source": [
        "from seaborn.rcmod import palettes\n",
        "sns.countplot(data['Seasons']).set_title('Rented Bike count according to season')"
      ],
      "metadata": {
        "colab": {
          "base_uri": "https://localhost:8080/",
          "height": 312
        },
        "id": "eaNaayJVrXiK",
        "outputId": "a5817336-e014-4028-ea7c-14651793dbba"
      },
      "execution_count": null,
      "outputs": [
        {
          "output_type": "execute_result",
          "data": {
            "text/plain": [
              "Text(0.5, 1.0, 'Rented Bike count according to season')"
            ]
          },
          "metadata": {},
          "execution_count": 18
        },
        {
          "output_type": "display_data",
          "data": {
            "text/plain": [
              "<Figure size 432x288 with 1 Axes>"
            ],
            "image/png": "[encoded data removed]"
          },
          "metadata": {
            "needs_background": "light"
          }
        }
      ]
    },
    {
      "cell_type": "code",
      "source": [
        "data['Holiday'].value_counts()"
      ],
      "metadata": {
        "colab": {
          "base_uri": "https://localhost:8080/"
        },
        "id": "GV27W8iEsOtb",
        "outputId": "7a6b815c-c31c-44aa-bec9-78f5e2e9cddc"
      },
      "execution_count": null,
      "outputs": [
        {
          "output_type": "execute_result",
          "data": {
            "text/plain": [
              "No Holiday    8328\n",
              "Holiday        432\n",
              "Name: Holiday, dtype: int64"
            ]
          },
          "metadata": {},
          "execution_count": 19
        }
      ]
    },
    {
      "cell_type": "code",
      "source": [
        "sns.countplot(data['Holiday']).set_title('Count According to Holidays')"
      ],
      "metadata": {
        "colab": {
          "base_uri": "https://localhost:8080/",
          "height": 312
        },
        "id": "4sBprYDNsacx",
        "outputId": "838497af-a579-44bc-88cc-09a99ff0156f"
      },
      "execution_count": null,
      "outputs": [
        {
          "output_type": "execute_result",
          "data": {
            "text/plain": [
              "Text(0.5, 1.0, 'Count According to Holidays')"
            ]
          },
          "metadata": {},
          "execution_count": 20
        },
        {
          "output_type": "display_data",
          "data": {
            "text/plain": [
              "<Figure size 432x288 with 1 Axes>"
            ],
            "image/png": "[encoded data removed]"
          },
          "metadata": {
            "needs_background": "light"
          }
        }
      ]
    },
    {
      "cell_type": "code",
      "source": [
        "sns.countplot(data['Functioning Day']).set_title('Demand by Functioning day')"
      ],
      "metadata": {
        "colab": {
          "base_uri": "https://localhost:8080/",
          "height": 312
        },
        "id": "IJ8cDArXstmp",
        "outputId": "85e739bb-673a-4d44-e59d-7b3d4ac7f0a1"
      },
      "execution_count": null,
      "outputs": [
        {
          "output_type": "execute_result",
          "data": {
            "text/plain": [
              "Text(0.5, 1.0, 'Demand by Functioning day')"
            ]
          },
          "metadata": {},
          "execution_count": 21
        },
        {
          "output_type": "display_data",
          "data": {
            "text/plain": [
              "<Figure size 432x288 with 1 Axes>"
            ],
            "image/png": "[encoded data removed]"
          },
          "metadata": {
            "needs_background": "light"
          }
        }
      ]
    },
    {
      "cell_type": "code",
      "source": [
        "sns.displot(data['Rented Bike Count'],color=\"r\",kde=True)"
      ],
      "metadata": {
        "colab": {
          "base_uri": "https://localhost:8080/",
          "height": 386
        },
        "id": "jJNJuY2Pt3tT",
        "outputId": "d1634c42-0570-49c5-ee2c-1823d20eca3f"
      },
      "execution_count": null,
      "outputs": [
        {
          "output_type": "execute_result",
          "data": {
            "text/plain": [
              "<seaborn.axisgrid.FacetGrid at 0x7fca88eb12d0>"
            ]
          },
          "metadata": {},
          "execution_count": 22
        },
        {
          "output_type": "display_data",
          "data": {
            "text/plain": [
              "<Figure size 360x360 with 1 Axes>"
            ],
            "image/png": "[encoded data removed]"
          },
          "metadata": {
            "needs_background": "light"
          }
        }
      ]
    },
    {
      "cell_type": "code",
      "source": [
        "plt.figure(figsize=(9,6))\n",
        "lis=['Hour','Temperature(°C)','Humidity(%)','Wind speed (m/s)',\n",
        "     'Visibility (10m)','Dew point temperature(°C)','Solar Radiation (MJ/m2)'\n",
        "     ,'Rainfall(mm)','Snowfall (cm)']\n",
        "for i in lis:\n",
        "  sns.displot(data[i],kde=True,color='g')"
      ],
      "metadata": {
        "colab": {
          "base_uri": "https://localhost:8080/",
          "height": 1000
        },
        "id": "uET39UX3uZI8",
        "outputId": "b969b640-7b5c-4d1e-bcc4-fb6e0427b72a"
      },
      "execution_count": null,
      "outputs": [
        {
          "output_type": "display_data",
          "data": {
            "text/plain": [
              "<Figure size 648x432 with 0 Axes>"
            ]
          },
          "metadata": {}
        },
        {
          "output_type": "display_data",
          "data": {
            "text/plain": [
              "<Figure size 360x360 with 1 Axes>"
            ],
            "image/png": "[encoded data removed]"
          },
          "metadata": {
            "needs_background": "light"
          }
        },
        {
          "output_type": "display_data",
          "data": {
            "text/plain": [
              "<Figure size 360x360 with 1 Axes>"
            ],
            "image/png": "[encoded data removed]"
          },
          "metadata": {
            "needs_background": "light"
          }
        },
        {
          "output_type": "display_data",
          "data": {
            "text/plain": [
              "<Figure size 360x360 with 1 Axes>"
            ],
            "image/png": "[encoded data removed]"
          },
          "metadata": {
            "needs_background": "light"
          }
        },
        {
          "output_type": "display_data",
          "data": {
            "text/plain": [
              "<Figure size 360x360 with 1 Axes>"
            ],
            "image/png": "[encoded data removed]"
          },
          "metadata": {
            "needs_background": "light"
          }
        },
        {
          "output_type": "display_data",
          "data": {
            "text/plain": [
              "<Figure size 360x360 with 1 Axes>"
            ],
            "image/png": "[encoded data removed]"
          },
          "metadata": {
            "needs_background": "light"
          }
        },
        {
          "output_type": "display_data",
          "data": {
            "text/plain": [
              "<Figure size 360x360 with 1 Axes>"
            ],
            "image/png": "[encoded data removed]"
          },
          "metadata": {
            "needs_background": "light"
          }
        },
        {
          "output_type": "display_data",
          "data": {
            "text/plain": [
              "<Figure size 360x360 with 1 Axes>"
            ],
            "image/png": "[encoded data removed]"
          },
          "metadata": {
            "needs_background": "light"
          }
        },
        {
          "output_type": "display_data",
          "data": {
            "text/plain": [
              "<Figure size 360x360 with 1 Axes>"
            ],
            "image/png": "[encoded data removed]"
          },
          "metadata": {
            "needs_background": "light"
          }
        },
        {
          "output_type": "display_data",
          "data": {
            "text/plain": [
              "<Figure size 360x360 with 1 Axes>"
            ],
            "image/png": "[encoded data removed]"
          },
          "metadata": {
            "needs_background": "light"
          }
        }
      ]
    },
    {
      "cell_type": "code",
      "source": [
        "data['year'].value_counts()"
      ],
      "metadata": {
        "colab": {
          "base_uri": "https://localhost:8080/"
        },
        "id": "-uRpOhIFxOEv",
        "outputId": "fc018874-1a7c-4154-ac61-b968b30cf7a2"
      },
      "execution_count": null,
      "outputs": [
        {
          "output_type": "execute_result",
          "data": {
            "text/plain": [
              "2018    8016\n",
              "2017     744\n",
              "Name: year, dtype: int64"
            ]
          },
          "metadata": {},
          "execution_count": 24
        }
      ]
    },
    {
      "cell_type": "markdown",
      "source": [
        "**Basic Conclusion from Univariate** **Analysis**\n"
      ],
      "metadata": {
        "id": "dGLQR_BhyY3y"
      }
    },
    {
      "cell_type": "markdown",
      "source": [
        "\n",
        "\n",
        "*   Booking are mostly similer throughout the seasons.\n",
        "*   more booking on non holydays and functioning days.\n",
        "\n",
        "\n",
        "*   not much information at hour.\n",
        "*   the temprature is mostly grater than zero and let us consider as compare to cold the warm side is more.\n",
        "\n",
        "*   Wind speed is not extreme.\n",
        "\n",
        "*   Most of rainfall is less than 4 mm.\n",
        "\n",
        "*   Snowfall is mostly 0-1 cm and not extreme in most of the cases\n",
        "\n",
        "\n",
        "\n",
        "\n",
        "\n",
        "\n",
        "\n",
        "\n",
        "\n",
        "\n",
        "\n"
      ],
      "metadata": {
        "id": "8ULZXb2Dzoe_"
      }
    },
    {
      "cell_type": "markdown",
      "source": [
        "### Multivariate Analysis"
      ],
      "metadata": {
        "id": "KfhmryEU3DnT"
      }
    },
    {
      "cell_type": "code",
      "source": [
        "import seaborn as sns\n",
        "plt.figure (figsize=(10,10))\n",
        "sns.heatmap(data.corr())"
      ],
      "metadata": {
        "colab": {
          "base_uri": "https://localhost:8080/",
          "height": 738
        },
        "id": "wV49zC0z3JFL",
        "outputId": "135b736c-06f5-4af0-ad6b-0c31e1c2a5b9"
      },
      "execution_count": null,
      "outputs": [
        {
          "output_type": "execute_result",
          "data": {
            "text/plain": [
              "<matplotlib.axes._subplots.AxesSubplot at 0x7fca85fe5650>"
            ]
          },
          "metadata": {},
          "execution_count": 25
        },
        {
          "output_type": "display_data",
          "data": {
            "text/plain": [
              "<Figure size 720x720 with 2 Axes>"
            ],
            "image/png": "[encoded data removed]"
          },
          "metadata": {
            "needs_background": "light"
          }
        }
      ]
    },
    {
      "cell_type": "markdown",
      "source": [
        "\n",
        "\n",
        "*   Dew Point is highly corelated with Temerature , dropping Dew point\n",
        "\n"
      ],
      "metadata": {
        "id": "MsfmsEbJ5C7R"
      }
    },
    {
      "cell_type": "code",
      "source": [
        "df=data.copy()"
      ],
      "metadata": {
        "id": "yeHsNpWf5Rsw"
      },
      "execution_count": null,
      "outputs": []
    },
    {
      "cell_type": "code",
      "source": [
        "df=df.drop(columns=['Dew point temperature(°C)'],axis=1)"
      ],
      "metadata": {
        "id": "BOSQWjbV5bVd"
      },
      "execution_count": null,
      "outputs": []
    },
    {
      "cell_type": "code",
      "source": [
        "df.head()"
      ],
      "metadata": {
        "colab": {
          "base_uri": "https://localhost:8080/",
          "height": 354
        },
        "id": "ld_OtvAe5qxG",
        "outputId": "e23b4053-5a3f-4c92-d29f-2d9da812a0aa"
      },
      "execution_count": null,
      "outputs": [
        {
          "output_type": "execute_result",
          "data": {
            "text/plain": [
              "        Date  Rented Bike Count  Hour  Temperature(°C)  Humidity(%)  \\\n",
              "0 2017-01-12                254     0             -5.2           37   \n",
              "1 2017-01-12                204     1             -5.5           38   \n",
              "2 2017-01-12                173     2             -6.0           39   \n",
              "3 2017-01-12                107     3             -6.2           40   \n",
              "4 2017-01-12                 78     4             -6.0           36   \n",
              "\n",
              "   Wind speed (m/s)  Visibility (10m)  Solar Radiation (MJ/m2)  Rainfall(mm)  \\\n",
              "0               2.2              2000                      0.0           0.0   \n",
              "1               0.8              2000                      0.0           0.0   \n",
              "2               1.0              2000                      0.0           0.0   \n",
              "3               0.9              2000                      0.0           0.0   \n",
              "4               2.3              2000                      0.0           0.0   \n",
              "\n",
              "   Snowfall (cm) Seasons     Holiday Functioning Day  Day  month  year  \n",
              "0            0.0  Winter  No Holiday             Yes   12      1  2017  \n",
              "1            0.0  Winter  No Holiday             Yes   12      1  2017  \n",
              "2            0.0  Winter  No Holiday             Yes   12      1  2017  \n",
              "3            0.0  Winter  No Holiday             Yes   12      1  2017  \n",
              "4            0.0  Winter  No Holiday             Yes   12      1  2017  "
            ],
            "text/html": [
              "\n",
              "  <div id=\"df-f041da4b-4fcf-42e2-83f7-74362291b5a8\">\n",
              "    <div class=\"colab-df-container\">\n",
              "      <div>\n",
              "<style scoped>\n",
              "    .dataframe tbody tr th:only-of-type {\n",
              "        vertical-align: middle;\n",
              "    }\n",
              "\n",
              "    .dataframe tbody tr th {\n",
              "        vertical-align: top;\n",
              "    }\n",
              "\n",
              "    .dataframe thead th {\n",
              "        text-align: right;\n",
              "    }\n",
              "</style>\n",
              "<table border=\"1\" class=\"dataframe\">\n",
              "  <thead>\n",
              "    <tr style=\"text-align: right;\">\n",
              "      <th></th>\n",
              "      <th>Date</th>\n",
              "      <th>Rented Bike Count</th>\n",
              "      <th>Hour</th>\n",
              "      <th>Temperature(°C)</th>\n",
              "      <th>Humidity(%)</th>\n",
              "      <th>Wind speed (m/s)</th>\n",
              "      <th>Visibility (10m)</th>\n",
              "      <th>Solar Radiation (MJ/m2)</th>\n",
              "      <th>Rainfall(mm)</th>\n",
              "      <th>Snowfall (cm)</th>\n",
              "      <th>Seasons</th>\n",
              "      <th>Holiday</th>\n",
              "      <th>Functioning Day</th>\n",
              "      <th>Day</th>\n",
              "      <th>month</th>\n",
              "      <th>year</th>\n",
              "    </tr>\n",
              "  </thead>\n",
              "  <tbody>\n",
              "    <tr>\n",
              "      <th>0</th>\n",
              "      <td>2017-01-12</td>\n",
              "      <td>254</td>\n",
              "      <td>0</td>\n",
              "      <td>-5.2</td>\n",
              "      <td>37</td>\n",
              "      <td>2.2</td>\n",
              "      <td>2000</td>\n",
              "      <td>0.0</td>\n",
              "      <td>0.0</td>\n",
              "      <td>0.0</td>\n",
              "      <td>Winter</td>\n",
              "      <td>No Holiday</td>\n",
              "      <td>Yes</td>\n",
              "      <td>12</td>\n",
              "      <td>1</td>\n",
              "      <td>2017</td>\n",
              "    </tr>\n",
              "    <tr>\n",
              "      <th>1</th>\n",
              "      <td>2017-01-12</td>\n",
              "      <td>204</td>\n",
              "      <td>1</td>\n",
              "      <td>-5.5</td>\n",
              "      <td>38</td>\n",
              "      <td>0.8</td>\n",
              "      <td>2000</td>\n",
              "      <td>0.0</td>\n",
              "      <td>0.0</td>\n",
              "      <td>0.0</td>\n",
              "      <td>Winter</td>\n",
              "      <td>No Holiday</td>\n",
              "      <td>Yes</td>\n",
              "      <td>12</td>\n",
              "      <td>1</td>\n",
              "      <td>2017</td>\n",
              "    </tr>\n",
              "    <tr>\n",
              "      <th>2</th>\n",
              "      <td>2017-01-12</td>\n",
              "      <td>173</td>\n",
              "      <td>2</td>\n",
              "      <td>-6.0</td>\n",
              "      <td>39</td>\n",
              "      <td>1.0</td>\n",
              "      <td>2000</td>\n",
              "      <td>0.0</td>\n",
              "      <td>0.0</td>\n",
              "      <td>0.0</td>\n",
              "      <td>Winter</td>\n",
              "      <td>No Holiday</td>\n",
              "      <td>Yes</td>\n",
              "      <td>12</td>\n",
              "      <td>1</td>\n",
              "      <td>2017</td>\n",
              "    </tr>\n",
              "    <tr>\n",
              "      <th>3</th>\n",
              "      <td>2017-01-12</td>\n",
              "      <td>107</td>\n",
              "      <td>3</td>\n",
              "      <td>-6.2</td>\n",
              "      <td>40</td>\n",
              "      <td>0.9</td>\n",
              "      <td>2000</td>\n",
              "      <td>0.0</td>\n",
              "      <td>0.0</td>\n",
              "      <td>0.0</td>\n",
              "      <td>Winter</td>\n",
              "      <td>No Holiday</td>\n",
              "      <td>Yes</td>\n",
              "      <td>12</td>\n",
              "      <td>1</td>\n",
              "      <td>2017</td>\n",
              "    </tr>\n",
              "    <tr>\n",
              "      <th>4</th>\n",
              "      <td>2017-01-12</td>\n",
              "      <td>78</td>\n",
              "      <td>4</td>\n",
              "      <td>-6.0</td>\n",
              "      <td>36</td>\n",
              "      <td>2.3</td>\n",
              "      <td>2000</td>\n",
              "      <td>0.0</td>\n",
              "      <td>0.0</td>\n",
              "      <td>0.0</td>\n",
              "      <td>Winter</td>\n",
              "      <td>No Holiday</td>\n",
              "      <td>Yes</td>\n",
              "      <td>12</td>\n",
              "      <td>1</td>\n",
              "      <td>2017</td>\n",
              "    </tr>\n",
              "  </tbody>\n",
              "</table>\n",
              "</div>\n",
              "      <button class=\"colab-df-convert\" onclick=\"convertToInteractive('df-f041da4b-4fcf-42e2-83f7-74362291b5a8')\"\n",
              "              title=\"Convert this dataframe to an interactive table.\"\n",
              "              style=\"display:none;\">\n",
              "        \n",
              "  <svg xmlns=\"http://www.w3.org/2000/svg\" height=\"24px\"viewBox=\"0 0 24 24\"\n",
              "       width=\"24px\">\n",
              "    <path d=\"M0 0h24v24H0V0z\" fill=\"none\"/>\n",
              "    <path d=\"M18.56 5.44l.94 2.06.94-2.06 2.06-.94-2.06-.94-.94-2.06-.94 2.06-2.06.94zm-11 1L8.5 8.5l.94-2.06 2.06-.94-2.06-.94L8.5 2.5l-.94 2.06-2.06.94zm10 10l.94 2.06.94-2.06 2.06-.94-2.06-.94-.94-2.06-.94 2.06-2.06.94z\"/><path d=\"M17.41 7.96l-1.37-1.37c-.4-.4-.92-.59-1.43-.59-.52 0-1.04.2-1.43.59L10.3 9.45l-7.72 7.72c-.78.78-.78 2.05 0 2.83L4 21.41c.39.39.9.59 1.41.59.51 0 1.02-.2 1.41-.59l7.78-7.78 2.81-2.81c.8-.78.8-2.07 0-2.86zM5.41 20L4 18.59l7.72-7.72 1.47 1.35L5.41 20z\"/>\n",
              "  </svg>\n",
              "      </button>\n",
              "      \n",
              "  <style>\n",
              "    .colab-df-container {\n",
              "      display:flex;\n",
              "      flex-wrap:wrap;\n",
              "      gap: 12px;\n",
              "    }\n",
              "\n",
              "    .colab-df-convert {\n",
              "      background-color: #E8F0FE;\n",
              "      border: none;\n",
              "      border-radius: 50%;\n",
              "      cursor: pointer;\n",
              "      display: none;\n",
              "      fill: #1967D2;\n",
              "      height: 32px;\n",
              "      padding: 0 0 0 0;\n",
              "      width: 32px;\n",
              "    }\n",
              "\n",
              "    .colab-df-convert:hover {\n",
              "      background-color: #E2EBFA;\n",
              "      box-shadow: 0px 1px 2px rgba(60, 64, 67, 0.3), 0px 1px 3px 1px rgba(60, 64, 67, 0.15);\n",
              "      fill: #174EA6;\n",
              "    }\n",
              "\n",
              "    [theme=dark] .colab-df-convert {\n",
              "      background-color: #3B4455;\n",
              "      fill: #D2E3FC;\n",
              "    }\n",
              "\n",
              "    [theme=dark] .colab-df-convert:hover {\n",
              "      background-color: #434B5C;\n",
              "      box-shadow: 0px 1px 3px 1px rgba(0, 0, 0, 0.15);\n",
              "      filter: drop-shadow(0px 1px 2px rgba(0, 0, 0, 0.3));\n",
              "      fill: #FFFFFF;\n",
              "    }\n",
              "  </style>\n",
              "\n",
              "      <script>\n",
              "        const buttonEl =\n",
              "          document.querySelector('#df-f041da4b-4fcf-42e2-83f7-74362291b5a8 button.colab-df-convert');\n",
              "        buttonEl.style.display =\n",
              "          google.colab.kernel.accessAllowed ? 'block' : 'none';\n",
              "\n",
              "        async function convertToInteractive(key) {\n",
              "          const element = document.querySelector('#df-f041da4b-4fcf-42e2-83f7-74362291b5a8');\n",
              "          const dataTable =\n",
              "            await google.colab.kernel.invokeFunction('convertToInteractive',\n",
              "                                                     [key], {});\n",
              "          if (!dataTable) return;\n",
              "\n",
              "          const docLinkHtml = 'Like what you see? Visit the ' +\n",
              "            '<a target=\"_blank\" href=https://colab.research.google.com/notebooks/data_table.ipynb>data table notebook</a>'\n",
              "            + ' to learn more about interactive tables.';\n",
              "          element.innerHTML = '';\n",
              "          dataTable['output_type'] = 'display_data';\n",
              "          await google.colab.output.renderOutput(dataTable, element);\n",
              "          const docLink = document.createElement('div');\n",
              "          docLink.innerHTML = docLinkHtml;\n",
              "          element.appendChild(docLink);\n",
              "        }\n",
              "      </script>\n",
              "    </div>\n",
              "  </div>\n",
              "  "
            ]
          },
          "metadata": {},
          "execution_count": 28
        }
      ]
    },
    {
      "cell_type": "code",
      "source": [
        "plt.figure(figsize=(10,6))\n",
        "sns.barplot(x='Hour',y='Rented Bike Count',data=df)"
      ],
      "metadata": {
        "colab": {
          "base_uri": "https://localhost:8080/",
          "height": 405
        },
        "id": "ZB4LLSxO5sge",
        "outputId": "b040ddac-95b1-4d6b-9cdb-48c501206cc5"
      },
      "execution_count": null,
      "outputs": [
        {
          "output_type": "execute_result",
          "data": {
            "text/plain": [
              "<matplotlib.axes._subplots.AxesSubplot at 0x7fca86569350>"
            ]
          },
          "metadata": {},
          "execution_count": 29
        },
        {
          "output_type": "display_data",
          "data": {
            "text/plain": [
              "<Figure size 720x432 with 1 Axes>"
            ],
            "image/png": "[encoded data removed]"
          },
          "metadata": {
            "needs_background": "light"
          }
        }
      ]
    },
    {
      "cell_type": "code",
      "source": [
        "df=pd.get_dummies(df,columns = ['Seasons','Holiday','Functioning Day'])\n",
        "df"
      ],
      "metadata": {
        "id": "q57EMY706LP1",
        "colab": {
          "base_uri": "https://localhost:8080/",
          "height": 696
        },
        "outputId": "f2df5463-565e-453a-a9e1-44d7e7d388de"
      },
      "execution_count": null,
      "outputs": [
        {
          "output_type": "execute_result",
          "data": {
            "text/plain": [
              "           Date  Rented Bike Count  Hour  Temperature(°C)  Humidity(%)  \\\n",
              "0    2017-01-12                254     0             -5.2           37   \n",
              "1    2017-01-12                204     1             -5.5           38   \n",
              "2    2017-01-12                173     2             -6.0           39   \n",
              "3    2017-01-12                107     3             -6.2           40   \n",
              "4    2017-01-12                 78     4             -6.0           36   \n",
              "...         ...                ...   ...              ...          ...   \n",
              "8755 2018-11-30               1003    19              4.2           34   \n",
              "8756 2018-11-30                764    20              3.4           37   \n",
              "8757 2018-11-30                694    21              2.6           39   \n",
              "8758 2018-11-30                712    22              2.1           41   \n",
              "8759 2018-11-30                584    23              1.9           43   \n",
              "\n",
              "      Wind speed (m/s)  Visibility (10m)  Solar Radiation (MJ/m2)  \\\n",
              "0                  2.2              2000                      0.0   \n",
              "1                  0.8              2000                      0.0   \n",
              "2                  1.0              2000                      0.0   \n",
              "3                  0.9              2000                      0.0   \n",
              "4                  2.3              2000                      0.0   \n",
              "...                ...               ...                      ...   \n",
              "8755               2.6              1894                      0.0   \n",
              "8756               2.3              2000                      0.0   \n",
              "8757               0.3              1968                      0.0   \n",
              "8758               1.0              1859                      0.0   \n",
              "8759               1.3              1909                      0.0   \n",
              "\n",
              "      Rainfall(mm)  Snowfall (cm)  ...  month  year  Seasons_Autumn  \\\n",
              "0              0.0            0.0  ...      1  2017               0   \n",
              "1              0.0            0.0  ...      1  2017               0   \n",
              "2              0.0            0.0  ...      1  2017               0   \n",
              "3              0.0            0.0  ...      1  2017               0   \n",
              "4              0.0            0.0  ...      1  2017               0   \n",
              "...            ...            ...  ...    ...   ...             ...   \n",
              "8755           0.0            0.0  ...     11  2018               1   \n",
              "8756           0.0            0.0  ...     11  2018               1   \n",
              "8757           0.0            0.0  ...     11  2018               1   \n",
              "8758           0.0            0.0  ...     11  2018               1   \n",
              "8759           0.0            0.0  ...     11  2018               1   \n",
              "\n",
              "      Seasons_Spring  Seasons_Summer  Seasons_Winter  Holiday_Holiday  \\\n",
              "0                  0               0               1                0   \n",
              "1                  0               0               1                0   \n",
              "2                  0               0               1                0   \n",
              "3                  0               0               1                0   \n",
              "4                  0               0               1                0   \n",
              "...              ...             ...             ...              ...   \n",
              "8755               0               0               0                0   \n",
              "8756               0               0               0                0   \n",
              "8757               0               0               0                0   \n",
              "8758               0               0               0                0   \n",
              "8759               0               0               0                0   \n",
              "\n",
              "      Holiday_No Holiday  Functioning Day_No  Functioning Day_Yes  \n",
              "0                      1                   0                    1  \n",
              "1                      1                   0                    1  \n",
              "2                      1                   0                    1  \n",
              "3                      1                   0                    1  \n",
              "4                      1                   0                    1  \n",
              "...                  ...                 ...                  ...  \n",
              "8755                   1                   0                    1  \n",
              "8756                   1                   0                    1  \n",
              "8757                   1                   0                    1  \n",
              "8758                   1                   0                    1  \n",
              "8759                   1                   0                    1  \n",
              "\n",
              "[8760 rows x 21 columns]"
            ],
            "text/html": [
              "\n",
              "  <div id=\"df-5f3fca51-825a-4717-b09d-d26400bbb98b\">\n",
              "    <div class=\"colab-df-container\">\n",
              "      <div>\n",
              "<style scoped>\n",
              "    .dataframe tbody tr th:only-of-type {\n",
              "        vertical-align: middle;\n",
              "    }\n",
              "\n",
              "    .dataframe tbody tr th {\n",
              "        vertical-align: top;\n",
              "    }\n",
              "\n",
              "    .dataframe thead th {\n",
              "        text-align: right;\n",
              "    }\n",
              "</style>\n",
              "<table border=\"1\" class=\"dataframe\">\n",
              "  <thead>\n",
              "    <tr style=\"text-align: right;\">\n",
              "      <th></th>\n",
              "      <th>Date</th>\n",
              "      <th>Rented Bike Count</th>\n",
              "      <th>Hour</th>\n",
              "      <th>Temperature(°C)</th>\n",
              "      <th>Humidity(%)</th>\n",
              "      <th>Wind speed (m/s)</th>\n",
              "      <th>Visibility (10m)</th>\n",
              "      <th>Solar Radiation (MJ/m2)</th>\n",
              "      <th>Rainfall(mm)</th>\n",
              "      <th>Snowfall (cm)</th>\n",
              "      <th>...</th>\n",
              "      <th>month</th>\n",
              "      <th>year</th>\n",
              "      <th>Seasons_Autumn</th>\n",
              "      <th>Seasons_Spring</th>\n",
              "      <th>Seasons_Summer</th>\n",
              "      <th>Seasons_Winter</th>\n",
              "      <th>Holiday_Holiday</th>\n",
              "      <th>Holiday_No Holiday</th>\n",
              "      <th>Functioning Day_No</th>\n",
              "      <th>Functioning Day_Yes</th>\n",
              "    </tr>\n",
              "  </thead>\n",
              "  <tbody>\n",
              "    <tr>\n",
              "      <th>0</th>\n",
              "      <td>2017-01-12</td>\n",
              "      <td>254</td>\n",
              "      <td>0</td>\n",
              "      <td>-5.2</td>\n",
              "      <td>37</td>\n",
              "      <td>2.2</td>\n",
              "      <td>2000</td>\n",
              "      <td>0.0</td>\n",
              "      <td>0.0</td>\n",
              "      <td>0.0</td>\n",
              "      <td>...</td>\n",
              "      <td>1</td>\n",
              "      <td>2017</td>\n",
              "      <td>0</td>\n",
              "      <td>0</td>\n",
              "      <td>0</td>\n",
              "      <td>1</td>\n",
              "      <td>0</td>\n",
              "      <td>1</td>\n",
              "      <td>0</td>\n",
              "      <td>1</td>\n",
              "    </tr>\n",
              "    <tr>\n",
              "      <th>1</th>\n",
              "      <td>2017-01-12</td>\n",
              "      <td>204</td>\n",
              "      <td>1</td>\n",
              "      <td>-5.5</td>\n",
              "      <td>38</td>\n",
              "      <td>0.8</td>\n",
              "      <td>2000</td>\n",
              "      <td>0.0</td>\n",
              "      <td>0.0</td>\n",
              "      <td>0.0</td>\n",
              "      <td>...</td>\n",
              "      <td>1</td>\n",
              "      <td>2017</td>\n",
              "      <td>0</td>\n",
              "      <td>0</td>\n",
              "      <td>0</td>\n",
              "      <td>1</td>\n",
              "      <td>0</td>\n",
              "      <td>1</td>\n",
              "      <td>0</td>\n",
              "      <td>1</td>\n",
              "    </tr>\n",
              "    <tr>\n",
              "      <th>2</th>\n",
              "      <td>2017-01-12</td>\n",
              "      <td>173</td>\n",
              "      <td>2</td>\n",
              "      <td>-6.0</td>\n",
              "      <td>39</td>\n",
              "      <td>1.0</td>\n",
              "      <td>2000</td>\n",
              "      <td>0.0</td>\n",
              "      <td>0.0</td>\n",
              "      <td>0.0</td>\n",
              "      <td>...</td>\n",
              "      <td>1</td>\n",
              "      <td>2017</td>\n",
              "      <td>0</td>\n",
              "      <td>0</td>\n",
              "      <td>0</td>\n",
              "      <td>1</td>\n",
              "      <td>0</td>\n",
              "      <td>1</td>\n",
              "      <td>0</td>\n",
              "      <td>1</td>\n",
              "    </tr>\n",
              "    <tr>\n",
              "      <th>3</th>\n",
              "      <td>2017-01-12</td>\n",
              "      <td>107</td>\n",
              "      <td>3</td>\n",
              "      <td>-6.2</td>\n",
              "      <td>40</td>\n",
              "      <td>0.9</td>\n",
              "      <td>2000</td>\n",
              "      <td>0.0</td>\n",
              "      <td>0.0</td>\n",
              "      <td>0.0</td>\n",
              "      <td>...</td>\n",
              "      <td>1</td>\n",
              "      <td>2017</td>\n",
              "      <td>0</td>\n",
              "      <td>0</td>\n",
              "      <td>0</td>\n",
              "      <td>1</td>\n",
              "      <td>0</td>\n",
              "      <td>1</td>\n",
              "      <td>0</td>\n",
              "      <td>1</td>\n",
              "    </tr>\n",
              "    <tr>\n",
              "      <th>4</th>\n",
              "      <td>2017-01-12</td>\n",
              "      <td>78</td>\n",
              "      <td>4</td>\n",
              "      <td>-6.0</td>\n",
              "      <td>36</td>\n",
              "      <td>2.3</td>\n",
              "      <td>2000</td>\n",
              "      <td>0.0</td>\n",
              "      <td>0.0</td>\n",
              "      <td>0.0</td>\n",
              "      <td>...</td>\n",
              "      <td>1</td>\n",
              "      <td>2017</td>\n",
              "      <td>0</td>\n",
              "      <td>0</td>\n",
              "      <td>0</td>\n",
              "      <td>1</td>\n",
              "      <td>0</td>\n",
              "      <td>1</td>\n",
              "      <td>0</td>\n",
              "      <td>1</td>\n",
              "    </tr>\n",
              "    <tr>\n",
              "      <th>...</th>\n",
              "      <td>...</td>\n",
              "      <td>...</td>\n",
              "      <td>...</td>\n",
              "      <td>...</td>\n",
              "      <td>...</td>\n",
              "      <td>...</td>\n",
              "      <td>...</td>\n",
              "      <td>...</td>\n",
              "      <td>...</td>\n",
              "      <td>...</td>\n",
              "      <td>...</td>\n",
              "      <td>...</td>\n",
              "      <td>...</td>\n",
              "      <td>...</td>\n",
              "      <td>...</td>\n",
              "      <td>...</td>\n",
              "      <td>...</td>\n",
              "      <td>...</td>\n",
              "      <td>...</td>\n",
              "      <td>...</td>\n",
              "      <td>...</td>\n",
              "    </tr>\n",
              "    <tr>\n",
              "      <th>8755</th>\n",
              "      <td>2018-11-30</td>\n",
              "      <td>1003</td>\n",
              "      <td>19</td>\n",
              "      <td>4.2</td>\n",
              "      <td>34</td>\n",
              "      <td>2.6</td>\n",
              "      <td>1894</td>\n",
              "      <td>0.0</td>\n",
              "      <td>0.0</td>\n",
              "      <td>0.0</td>\n",
              "      <td>...</td>\n",
              "      <td>11</td>\n",
              "      <td>2018</td>\n",
              "      <td>1</td>\n",
              "      <td>0</td>\n",
              "      <td>0</td>\n",
              "      <td>0</td>\n",
              "      <td>0</td>\n",
              "      <td>1</td>\n",
              "      <td>0</td>\n",
              "      <td>1</td>\n",
              "    </tr>\n",
              "    <tr>\n",
              "      <th>8756</th>\n",
              "      <td>2018-11-30</td>\n",
              "      <td>764</td>\n",
              "      <td>20</td>\n",
              "      <td>3.4</td>\n",
              "      <td>37</td>\n",
              "      <td>2.3</td>\n",
              "      <td>2000</td>\n",
              "      <td>0.0</td>\n",
              "      <td>0.0</td>\n",
              "      <td>0.0</td>\n",
              "      <td>...</td>\n",
              "      <td>11</td>\n",
              "      <td>2018</td>\n",
              "      <td>1</td>\n",
              "      <td>0</td>\n",
              "      <td>0</td>\n",
              "      <td>0</td>\n",
              "      <td>0</td>\n",
              "      <td>1</td>\n",
              "      <td>0</td>\n",
              "      <td>1</td>\n",
              "    </tr>\n",
              "    <tr>\n",
              "      <th>8757</th>\n",
              "      <td>2018-11-30</td>\n",
              "      <td>694</td>\n",
              "      <td>21</td>\n",
              "      <td>2.6</td>\n",
              "      <td>39</td>\n",
              "      <td>0.3</td>\n",
              "      <td>1968</td>\n",
              "      <td>0.0</td>\n",
              "      <td>0.0</td>\n",
              "      <td>0.0</td>\n",
              "      <td>...</td>\n",
              "      <td>11</td>\n",
              "      <td>2018</td>\n",
              "      <td>1</td>\n",
              "      <td>0</td>\n",
              "      <td>0</td>\n",
              "      <td>0</td>\n",
              "      <td>0</td>\n",
              "      <td>1</td>\n",
              "      <td>0</td>\n",
              "      <td>1</td>\n",
              "    </tr>\n",
              "    <tr>\n",
              "      <th>8758</th>\n",
              "      <td>2018-11-30</td>\n",
              "      <td>712</td>\n",
              "      <td>22</td>\n",
              "      <td>2.1</td>\n",
              "      <td>41</td>\n",
              "      <td>1.0</td>\n",
              "      <td>1859</td>\n",
              "      <td>0.0</td>\n",
              "      <td>0.0</td>\n",
              "      <td>0.0</td>\n",
              "      <td>...</td>\n",
              "      <td>11</td>\n",
              "      <td>2018</td>\n",
              "      <td>1</td>\n",
              "      <td>0</td>\n",
              "      <td>0</td>\n",
              "      <td>0</td>\n",
              "      <td>0</td>\n",
              "      <td>1</td>\n",
              "      <td>0</td>\n",
              "      <td>1</td>\n",
              "    </tr>\n",
              "    <tr>\n",
              "      <th>8759</th>\n",
              "      <td>2018-11-30</td>\n",
              "      <td>584</td>\n",
              "      <td>23</td>\n",
              "      <td>1.9</td>\n",
              "      <td>43</td>\n",
              "      <td>1.3</td>\n",
              "      <td>1909</td>\n",
              "      <td>0.0</td>\n",
              "      <td>0.0</td>\n",
              "      <td>0.0</td>\n",
              "      <td>...</td>\n",
              "      <td>11</td>\n",
              "      <td>2018</td>\n",
              "      <td>1</td>\n",
              "      <td>0</td>\n",
              "      <td>0</td>\n",
              "      <td>0</td>\n",
              "      <td>0</td>\n",
              "      <td>1</td>\n",
              "      <td>0</td>\n",
              "      <td>1</td>\n",
              "    </tr>\n",
              "  </tbody>\n",
              "</table>\n",
              "<p>8760 rows × 21 columns</p>\n",
              "</div>\n",
              "      <button class=\"colab-df-convert\" onclick=\"convertToInteractive('df-5f3fca51-825a-4717-b09d-d26400bbb98b')\"\n",
              "              title=\"Convert this dataframe to an interactive table.\"\n",
              "              style=\"display:none;\">\n",
              "        \n",
              "  <svg xmlns=\"http://www.w3.org/2000/svg\" height=\"24px\"viewBox=\"0 0 24 24\"\n",
              "       width=\"24px\">\n",
              "    <path d=\"M0 0h24v24H0V0z\" fill=\"none\"/>\n",
              "    <path d=\"M18.56 5.44l.94 2.06.94-2.06 2.06-.94-2.06-.94-.94-2.06-.94 2.06-2.06.94zm-11 1L8.5 8.5l.94-2.06 2.06-.94-2.06-.94L8.5 2.5l-.94 2.06-2.06.94zm10 10l.94 2.06.94-2.06 2.06-.94-2.06-.94-.94-2.06-.94 2.06-2.06.94z\"/><path d=\"M17.41 7.96l-1.37-1.37c-.4-.4-.92-.59-1.43-.59-.52 0-1.04.2-1.43.59L10.3 9.45l-7.72 7.72c-.78.78-.78 2.05 0 2.83L4 21.41c.39.39.9.59 1.41.59.51 0 1.02-.2 1.41-.59l7.78-7.78 2.81-2.81c.8-.78.8-2.07 0-2.86zM5.41 20L4 18.59l7.72-7.72 1.47 1.35L5.41 20z\"/>\n",
              "  </svg>\n",
              "      </button>\n",
              "      \n",
              "  <style>\n",
              "    .colab-df-container {\n",
              "      display:flex;\n",
              "      flex-wrap:wrap;\n",
              "      gap: 12px;\n",
              "    }\n",
              "\n",
              "    .colab-df-convert {\n",
              "      background-color: #E8F0FE;\n",
              "      border: none;\n",
              "      border-radius: 50%;\n",
              "      cursor: pointer;\n",
              "      display: none;\n",
              "      fill: #1967D2;\n",
              "      height: 32px;\n",
              "      padding: 0 0 0 0;\n",
              "      width: 32px;\n",
              "    }\n",
              "\n",
              "    .colab-df-convert:hover {\n",
              "      background-color: #E2EBFA;\n",
              "      box-shadow: 0px 1px 2px rgba(60, 64, 67, 0.3), 0px 1px 3px 1px rgba(60, 64, 67, 0.15);\n",
              "      fill: #174EA6;\n",
              "    }\n",
              "\n",
              "    [theme=dark] .colab-df-convert {\n",
              "      background-color: #3B4455;\n",
              "      fill: #D2E3FC;\n",
              "    }\n",
              "\n",
              "    [theme=dark] .colab-df-convert:hover {\n",
              "      background-color: #434B5C;\n",
              "      box-shadow: 0px 1px 3px 1px rgba(0, 0, 0, 0.15);\n",
              "      filter: drop-shadow(0px 1px 2px rgba(0, 0, 0, 0.3));\n",
              "      fill: #FFFFFF;\n",
              "    }\n",
              "  </style>\n",
              "\n",
              "      <script>\n",
              "        const buttonEl =\n",
              "          document.querySelector('#df-5f3fca51-825a-4717-b09d-d26400bbb98b button.colab-df-convert');\n",
              "        buttonEl.style.display =\n",
              "          google.colab.kernel.accessAllowed ? 'block' : 'none';\n",
              "\n",
              "        async function convertToInteractive(key) {\n",
              "          const element = document.querySelector('#df-5f3fca51-825a-4717-b09d-d26400bbb98b');\n",
              "          const dataTable =\n",
              "            await google.colab.kernel.invokeFunction('convertToInteractive',\n",
              "                                                     [key], {});\n",
              "          if (!dataTable) return;\n",
              "\n",
              "          const docLinkHtml = 'Like what you see? Visit the ' +\n",
              "            '<a target=\"_blank\" href=https://colab.research.google.com/notebooks/data_table.ipynb>data table notebook</a>'\n",
              "            + ' to learn more about interactive tables.';\n",
              "          element.innerHTML = '';\n",
              "          dataTable['output_type'] = 'display_data';\n",
              "          await google.colab.output.renderOutput(dataTable, element);\n",
              "          const docLink = document.createElement('div');\n",
              "          docLink.innerHTML = docLinkHtml;\n",
              "          element.appendChild(docLink);\n",
              "        }\n",
              "      </script>\n",
              "    </div>\n",
              "  </div>\n",
              "  "
            ]
          },
          "metadata": {},
          "execution_count": 30
        }
      ]
    },
    {
      "cell_type": "code",
      "source": [
        "from scipy.stats import uniform, randint\n",
        "from sklearn.preprocessing import StandardScaler\n",
        "from sklearn.metrics import auc, accuracy_score, confusion_matrix, mean_squared_error,mean_absolute_error, r2_score\n",
        "from sklearn.model_selection import cross_val_score, GridSearchCV, KFold, RandomizedSearchCV, train_test_split\n",
        "from xgboost import XGBRegressor\n",
        "from sklearn.ensemble import RandomForestRegressor\n",
        "from sklearn.preprocessing import PolynomialFeatures\n",
        "import xgboost as xgb"
      ],
      "metadata": {
        "id": "mnsnKy5MMPxL"
      },
      "execution_count": null,
      "outputs": []
    },
    {
      "cell_type": "code",
      "source": [
        "df.columns"
      ],
      "metadata": {
        "colab": {
          "base_uri": "https://localhost:8080/"
        },
        "id": "7Lvc31m3MdXx",
        "outputId": "4ffbd254-49e0-4010-9a28-6c226e02532e"
      },
      "execution_count": null,
      "outputs": [
        {
          "output_type": "execute_result",
          "data": {
            "text/plain": [
              "Index(['Date', 'Rented Bike Count', 'Hour', 'Temperature(°C)', 'Humidity(%)',\n",
              "       'Wind speed (m/s)', 'Visibility (10m)', 'Solar Radiation (MJ/m2)',\n",
              "       'Rainfall(mm)', 'Snowfall (cm)', 'Day', 'month', 'year',\n",
              "       'Seasons_Autumn', 'Seasons_Spring', 'Seasons_Summer', 'Seasons_Winter',\n",
              "       'Holiday_Holiday', 'Holiday_No Holiday', 'Functioning Day_No',\n",
              "       'Functioning Day_Yes'],\n",
              "      dtype='object')"
            ]
          },
          "metadata": {},
          "execution_count": 32
        }
      ]
    },
    {
      "cell_type": "markdown",
      "source": [
        "# indipendant and dependant data features\n"
      ],
      "metadata": {
        "id": "nzdNyk5XMlr8"
      }
    },
    {
      "cell_type": "code",
      "source": [
        "y = df['Rented Bike Count']\n",
        "x =df[['Hour', 'Temperature(°C)', 'Humidity(%)',\n",
        "       'Wind speed (m/s)', 'Visibility (10m)', 'Solar Radiation (MJ/m2)',\n",
        "       'Rainfall(mm)', 'Snowfall (cm)', 'Day', 'month', 'year',\n",
        "       'Seasons_Autumn', 'Seasons_Spring', 'Seasons_Summer', 'Seasons_Winter',\n",
        "       'Holiday_Holiday', 'Holiday_No Holiday', 'Functioning Day_No',\n",
        "       'Functioning Day_Yes']]"
      ],
      "metadata": {
        "id": "_a2KVAsoMfu3"
      },
      "execution_count": null,
      "outputs": []
    },
    {
      "cell_type": "code",
      "source": [
        "x"
      ],
      "metadata": {
        "id": "RixietlBAbLe",
        "outputId": "3591b511-02e4-4a50-8c2c-0505db831655",
        "colab": {
          "base_uri": "https://localhost:8080/",
          "height": 522
        }
      },
      "execution_count": null,
      "outputs": [
        {
          "output_type": "execute_result",
          "data": {
            "text/plain": [
              "      Hour  Temperature(°C)  Humidity(%)  Wind speed (m/s)  Visibility (10m)  \\\n",
              "0        0             -5.2           37               2.2              2000   \n",
              "1        1             -5.5           38               0.8              2000   \n",
              "2        2             -6.0           39               1.0              2000   \n",
              "3        3             -6.2           40               0.9              2000   \n",
              "4        4             -6.0           36               2.3              2000   \n",
              "...    ...              ...          ...               ...               ...   \n",
              "8755    19              4.2           34               2.6              1894   \n",
              "8756    20              3.4           37               2.3              2000   \n",
              "8757    21              2.6           39               0.3              1968   \n",
              "8758    22              2.1           41               1.0              1859   \n",
              "8759    23              1.9           43               1.3              1909   \n",
              "\n",
              "      Solar Radiation (MJ/m2)  Rainfall(mm)  Snowfall (cm)  Day  month  year  \\\n",
              "0                         0.0           0.0            0.0   12      1  2017   \n",
              "1                         0.0           0.0            0.0   12      1  2017   \n",
              "2                         0.0           0.0            0.0   12      1  2017   \n",
              "3                         0.0           0.0            0.0   12      1  2017   \n",
              "4                         0.0           0.0            0.0   12      1  2017   \n",
              "...                       ...           ...            ...  ...    ...   ...   \n",
              "8755                      0.0           0.0            0.0   30     11  2018   \n",
              "8756                      0.0           0.0            0.0   30     11  2018   \n",
              "8757                      0.0           0.0            0.0   30     11  2018   \n",
              "8758                      0.0           0.0            0.0   30     11  2018   \n",
              "8759                      0.0           0.0            0.0   30     11  2018   \n",
              "\n",
              "      Seasons_Autumn  Seasons_Spring  Seasons_Summer  Seasons_Winter  \\\n",
              "0                  0               0               0               1   \n",
              "1                  0               0               0               1   \n",
              "2                  0               0               0               1   \n",
              "3                  0               0               0               1   \n",
              "4                  0               0               0               1   \n",
              "...              ...             ...             ...             ...   \n",
              "8755               1               0               0               0   \n",
              "8756               1               0               0               0   \n",
              "8757               1               0               0               0   \n",
              "8758               1               0               0               0   \n",
              "8759               1               0               0               0   \n",
              "\n",
              "      Holiday_Holiday  Holiday_No Holiday  Functioning Day_No  \\\n",
              "0                   0                   1                   0   \n",
              "1                   0                   1                   0   \n",
              "2                   0                   1                   0   \n",
              "3                   0                   1                   0   \n",
              "4                   0                   1                   0   \n",
              "...               ...                 ...                 ...   \n",
              "8755                0                   1                   0   \n",
              "8756                0                   1                   0   \n",
              "8757                0                   1                   0   \n",
              "8758                0                   1                   0   \n",
              "8759                0                   1                   0   \n",
              "\n",
              "      Functioning Day_Yes  \n",
              "0                       1  \n",
              "1                       1  \n",
              "2                       1  \n",
              "3                       1  \n",
              "4                       1  \n",
              "...                   ...  \n",
              "8755                    1  \n",
              "8756                    1  \n",
              "8757                    1  \n",
              "8758                    1  \n",
              "8759                    1  \n",
              "\n",
              "[8760 rows x 19 columns]"
            ],
            "text/html": [
              "\n",
              "  <div id=\"df-54230119-1c10-4f59-bc6a-d9c6fae55a0d\">\n",
              "    <div class=\"colab-df-container\">\n",
              "      <div>\n",
              "<style scoped>\n",
              "    .dataframe tbody tr th:only-of-type {\n",
              "        vertical-align: middle;\n",
              "    }\n",
              "\n",
              "    .dataframe tbody tr th {\n",
              "        vertical-align: top;\n",
              "    }\n",
              "\n",
              "    .dataframe thead th {\n",
              "        text-align: right;\n",
              "    }\n",
              "</style>\n",
              "<table border=\"1\" class=\"dataframe\">\n",
              "  <thead>\n",
              "    <tr style=\"text-align: right;\">\n",
              "      <th></th>\n",
              "      <th>Hour</th>\n",
              "      <th>Temperature(°C)</th>\n",
              "      <th>Humidity(%)</th>\n",
              "      <th>Wind speed (m/s)</th>\n",
              "      <th>Visibility (10m)</th>\n",
              "      <th>Solar Radiation (MJ/m2)</th>\n",
              "      <th>Rainfall(mm)</th>\n",
              "      <th>Snowfall (cm)</th>\n",
              "      <th>Day</th>\n",
              "      <th>month</th>\n",
              "      <th>year</th>\n",
              "      <th>Seasons_Autumn</th>\n",
              "      <th>Seasons_Spring</th>\n",
              "      <th>Seasons_Summer</th>\n",
              "      <th>Seasons_Winter</th>\n",
              "      <th>Holiday_Holiday</th>\n",
              "      <th>Holiday_No Holiday</th>\n",
              "      <th>Functioning Day_No</th>\n",
              "      <th>Functioning Day_Yes</th>\n",
              "    </tr>\n",
              "  </thead>\n",
              "  <tbody>\n",
              "    <tr>\n",
              "      <th>0</th>\n",
              "      <td>0</td>\n",
              "      <td>-5.2</td>\n",
              "      <td>37</td>\n",
              "      <td>2.2</td>\n",
              "      <td>2000</td>\n",
              "      <td>0.0</td>\n",
              "      <td>0.0</td>\n",
              "      <td>0.0</td>\n",
              "      <td>12</td>\n",
              "      <td>1</td>\n",
              "      <td>2017</td>\n",
              "      <td>0</td>\n",
              "      <td>0</td>\n",
              "      <td>0</td>\n",
              "      <td>1</td>\n",
              "      <td>0</td>\n",
              "      <td>1</td>\n",
              "      <td>0</td>\n",
              "      <td>1</td>\n",
              "    </tr>\n",
              "    <tr>\n",
              "      <th>1</th>\n",
              "      <td>1</td>\n",
              "      <td>-5.5</td>\n",
              "      <td>38</td>\n",
              "      <td>0.8</td>\n",
              "      <td>2000</td>\n",
              "      <td>0.0</td>\n",
              "      <td>0.0</td>\n",
              "      <td>0.0</td>\n",
              "      <td>12</td>\n",
              "      <td>1</td>\n",
              "      <td>2017</td>\n",
              "      <td>0</td>\n",
              "      <td>0</td>\n",
              "      <td>0</td>\n",
              "      <td>1</td>\n",
              "      <td>0</td>\n",
              "      <td>1</td>\n",
              "      <td>0</td>\n",
              "      <td>1</td>\n",
              "    </tr>\n",
              "    <tr>\n",
              "      <th>2</th>\n",
              "      <td>2</td>\n",
              "      <td>-6.0</td>\n",
              "      <td>39</td>\n",
              "      <td>1.0</td>\n",
              "      <td>2000</td>\n",
              "      <td>0.0</td>\n",
              "      <td>0.0</td>\n",
              "      <td>0.0</td>\n",
              "      <td>12</td>\n",
              "      <td>1</td>\n",
              "      <td>2017</td>\n",
              "      <td>0</td>\n",
              "      <td>0</td>\n",
              "      <td>0</td>\n",
              "      <td>1</td>\n",
              "      <td>0</td>\n",
              "      <td>1</td>\n",
              "      <td>0</td>\n",
              "      <td>1</td>\n",
              "    </tr>\n",
              "    <tr>\n",
              "      <th>3</th>\n",
              "      <td>3</td>\n",
              "      <td>-6.2</td>\n",
              "      <td>40</td>\n",
              "      <td>0.9</td>\n",
              "      <td>2000</td>\n",
              "      <td>0.0</td>\n",
              "      <td>0.0</td>\n",
              "      <td>0.0</td>\n",
              "      <td>12</td>\n",
              "      <td>1</td>\n",
              "      <td>2017</td>\n",
              "      <td>0</td>\n",
              "      <td>0</td>\n",
              "      <td>0</td>\n",
              "      <td>1</td>\n",
              "      <td>0</td>\n",
              "      <td>1</td>\n",
              "      <td>0</td>\n",
              "      <td>1</td>\n",
              "    </tr>\n",
              "    <tr>\n",
              "      <th>4</th>\n",
              "      <td>4</td>\n",
              "      <td>-6.0</td>\n",
              "      <td>36</td>\n",
              "      <td>2.3</td>\n",
              "      <td>2000</td>\n",
              "      <td>0.0</td>\n",
              "      <td>0.0</td>\n",
              "      <td>0.0</td>\n",
              "      <td>12</td>\n",
              "      <td>1</td>\n",
              "      <td>2017</td>\n",
              "      <td>0</td>\n",
              "      <td>0</td>\n",
              "      <td>0</td>\n",
              "      <td>1</td>\n",
              "      <td>0</td>\n",
              "      <td>1</td>\n",
              "      <td>0</td>\n",
              "      <td>1</td>\n",
              "    </tr>\n",
              "    <tr>\n",
              "      <th>...</th>\n",
              "      <td>...</td>\n",
              "      <td>...</td>\n",
              "      <td>...</td>\n",
              "      <td>...</td>\n",
              "      <td>...</td>\n",
              "      <td>...</td>\n",
              "      <td>...</td>\n",
              "      <td>...</td>\n",
              "      <td>...</td>\n",
              "      <td>...</td>\n",
              "      <td>...</td>\n",
              "      <td>...</td>\n",
              "      <td>...</td>\n",
              "      <td>...</td>\n",
              "      <td>...</td>\n",
              "      <td>...</td>\n",
              "      <td>...</td>\n",
              "      <td>...</td>\n",
              "      <td>...</td>\n",
              "    </tr>\n",
              "    <tr>\n",
              "      <th>8755</th>\n",
              "      <td>19</td>\n",
              "      <td>4.2</td>\n",
              "      <td>34</td>\n",
              "      <td>2.6</td>\n",
              "      <td>1894</td>\n",
              "      <td>0.0</td>\n",
              "      <td>0.0</td>\n",
              "      <td>0.0</td>\n",
              "      <td>30</td>\n",
              "      <td>11</td>\n",
              "      <td>2018</td>\n",
              "      <td>1</td>\n",
              "      <td>0</td>\n",
              "      <td>0</td>\n",
              "      <td>0</td>\n",
              "      <td>0</td>\n",
              "      <td>1</td>\n",
              "      <td>0</td>\n",
              "      <td>1</td>\n",
              "    </tr>\n",
              "    <tr>\n",
              "      <th>8756</th>\n",
              "      <td>20</td>\n",
              "      <td>3.4</td>\n",
              "      <td>37</td>\n",
              "      <td>2.3</td>\n",
              "      <td>2000</td>\n",
              "      <td>0.0</td>\n",
              "      <td>0.0</td>\n",
              "      <td>0.0</td>\n",
              "      <td>30</td>\n",
              "      <td>11</td>\n",
              "      <td>2018</td>\n",
              "      <td>1</td>\n",
              "      <td>0</td>\n",
              "      <td>0</td>\n",
              "      <td>0</td>\n",
              "      <td>0</td>\n",
              "      <td>1</td>\n",
              "      <td>0</td>\n",
              "      <td>1</td>\n",
              "    </tr>\n",
              "    <tr>\n",
              "      <th>8757</th>\n",
              "      <td>21</td>\n",
              "      <td>2.6</td>\n",
              "      <td>39</td>\n",
              "      <td>0.3</td>\n",
              "      <td>1968</td>\n",
              "      <td>0.0</td>\n",
              "      <td>0.0</td>\n",
              "      <td>0.0</td>\n",
              "      <td>30</td>\n",
              "      <td>11</td>\n",
              "      <td>2018</td>\n",
              "      <td>1</td>\n",
              "      <td>0</td>\n",
              "      <td>0</td>\n",
              "      <td>0</td>\n",
              "      <td>0</td>\n",
              "      <td>1</td>\n",
              "      <td>0</td>\n",
              "      <td>1</td>\n",
              "    </tr>\n",
              "    <tr>\n",
              "      <th>8758</th>\n",
              "      <td>22</td>\n",
              "      <td>2.1</td>\n",
              "      <td>41</td>\n",
              "      <td>1.0</td>\n",
              "      <td>1859</td>\n",
              "      <td>0.0</td>\n",
              "      <td>0.0</td>\n",
              "      <td>0.0</td>\n",
              "      <td>30</td>\n",
              "      <td>11</td>\n",
              "      <td>2018</td>\n",
              "      <td>1</td>\n",
              "      <td>0</td>\n",
              "      <td>0</td>\n",
              "      <td>0</td>\n",
              "      <td>0</td>\n",
              "      <td>1</td>\n",
              "      <td>0</td>\n",
              "      <td>1</td>\n",
              "    </tr>\n",
              "    <tr>\n",
              "      <th>8759</th>\n",
              "      <td>23</td>\n",
              "      <td>1.9</td>\n",
              "      <td>43</td>\n",
              "      <td>1.3</td>\n",
              "      <td>1909</td>\n",
              "      <td>0.0</td>\n",
              "      <td>0.0</td>\n",
              "      <td>0.0</td>\n",
              "      <td>30</td>\n",
              "      <td>11</td>\n",
              "      <td>2018</td>\n",
              "      <td>1</td>\n",
              "      <td>0</td>\n",
              "      <td>0</td>\n",
              "      <td>0</td>\n",
              "      <td>0</td>\n",
              "      <td>1</td>\n",
              "      <td>0</td>\n",
              "      <td>1</td>\n",
              "    </tr>\n",
              "  </tbody>\n",
              "</table>\n",
              "<p>8760 rows × 19 columns</p>\n",
              "</div>\n",
              "      <button class=\"colab-df-convert\" onclick=\"convertToInteractive('df-54230119-1c10-4f59-bc6a-d9c6fae55a0d')\"\n",
              "              title=\"Convert this dataframe to an interactive table.\"\n",
              "              style=\"display:none;\">\n",
              "        \n",
              "  <svg xmlns=\"http://www.w3.org/2000/svg\" height=\"24px\"viewBox=\"0 0 24 24\"\n",
              "       width=\"24px\">\n",
              "    <path d=\"M0 0h24v24H0V0z\" fill=\"none\"/>\n",
              "    <path d=\"M18.56 5.44l.94 2.06.94-2.06 2.06-.94-2.06-.94-.94-2.06-.94 2.06-2.06.94zm-11 1L8.5 8.5l.94-2.06 2.06-.94-2.06-.94L8.5 2.5l-.94 2.06-2.06.94zm10 10l.94 2.06.94-2.06 2.06-.94-2.06-.94-.94-2.06-.94 2.06-2.06.94z\"/><path d=\"M17.41 7.96l-1.37-1.37c-.4-.4-.92-.59-1.43-.59-.52 0-1.04.2-1.43.59L10.3 9.45l-7.72 7.72c-.78.78-.78 2.05 0 2.83L4 21.41c.39.39.9.59 1.41.59.51 0 1.02-.2 1.41-.59l7.78-7.78 2.81-2.81c.8-.78.8-2.07 0-2.86zM5.41 20L4 18.59l7.72-7.72 1.47 1.35L5.41 20z\"/>\n",
              "  </svg>\n",
              "      </button>\n",
              "      \n",
              "  <style>\n",
              "    .colab-df-container {\n",
              "      display:flex;\n",
              "      flex-wrap:wrap;\n",
              "      gap: 12px;\n",
              "    }\n",
              "\n",
              "    .colab-df-convert {\n",
              "      background-color: #E8F0FE;\n",
              "      border: none;\n",
              "      border-radius: 50%;\n",
              "      cursor: pointer;\n",
              "      display: none;\n",
              "      fill: #1967D2;\n",
              "      height: 32px;\n",
              "      padding: 0 0 0 0;\n",
              "      width: 32px;\n",
              "    }\n",
              "\n",
              "    .colab-df-convert:hover {\n",
              "      background-color: #E2EBFA;\n",
              "      box-shadow: 0px 1px 2px rgba(60, 64, 67, 0.3), 0px 1px 3px 1px rgba(60, 64, 67, 0.15);\n",
              "      fill: #174EA6;\n",
              "    }\n",
              "\n",
              "    [theme=dark] .colab-df-convert {\n",
              "      background-color: #3B4455;\n",
              "      fill: #D2E3FC;\n",
              "    }\n",
              "\n",
              "    [theme=dark] .colab-df-convert:hover {\n",
              "      background-color: #434B5C;\n",
              "      box-shadow: 0px 1px 3px 1px rgba(0, 0, 0, 0.15);\n",
              "      filter: drop-shadow(0px 1px 2px rgba(0, 0, 0, 0.3));\n",
              "      fill: #FFFFFF;\n",
              "    }\n",
              "  </style>\n",
              "\n",
              "      <script>\n",
              "        const buttonEl =\n",
              "          document.querySelector('#df-54230119-1c10-4f59-bc6a-d9c6fae55a0d button.colab-df-convert');\n",
              "        buttonEl.style.display =\n",
              "          google.colab.kernel.accessAllowed ? 'block' : 'none';\n",
              "\n",
              "        async function convertToInteractive(key) {\n",
              "          const element = document.querySelector('#df-54230119-1c10-4f59-bc6a-d9c6fae55a0d');\n",
              "          const dataTable =\n",
              "            await google.colab.kernel.invokeFunction('convertToInteractive',\n",
              "                                                     [key], {});\n",
              "          if (!dataTable) return;\n",
              "\n",
              "          const docLinkHtml = 'Like what you see? Visit the ' +\n",
              "            '<a target=\"_blank\" href=https://colab.research.google.com/notebooks/data_table.ipynb>data table notebook</a>'\n",
              "            + ' to learn more about interactive tables.';\n",
              "          element.innerHTML = '';\n",
              "          dataTable['output_type'] = 'display_data';\n",
              "          await google.colab.output.renderOutput(dataTable, element);\n",
              "          const docLink = document.createElement('div');\n",
              "          docLink.innerHTML = docLinkHtml;\n",
              "          element.appendChild(docLink);\n",
              "        }\n",
              "      </script>\n",
              "    </div>\n",
              "  </div>\n",
              "  "
            ]
          },
          "metadata": {},
          "execution_count": 34
        }
      ]
    },
    {
      "cell_type": "code",
      "source": [
        "y"
      ],
      "metadata": {
        "id": "77nJ20LeAeTK",
        "outputId": "5089fae1-a7a5-429f-e8fd-a9f954b21835",
        "colab": {
          "base_uri": "https://localhost:8080/"
        }
      },
      "execution_count": null,
      "outputs": [
        {
          "output_type": "execute_result",
          "data": {
            "text/plain": [
              "0        254\n",
              "1        204\n",
              "2        173\n",
              "3        107\n",
              "4         78\n",
              "        ... \n",
              "8755    1003\n",
              "8756     764\n",
              "8757     694\n",
              "8758     712\n",
              "8759     584\n",
              "Name: Rented Bike Count, Length: 8760, dtype: int64"
            ]
          },
          "metadata": {},
          "execution_count": 35
        }
      ]
    },
    {
      "cell_type": "code",
      "source": [
        "X_train, X_test, y_train, y_test = train_test_split(x, y, test_size=0.30, random_state=42)"
      ],
      "metadata": {
        "id": "OwDesKj3OCEJ"
      },
      "execution_count": null,
      "outputs": []
    },
    {
      "cell_type": "code",
      "source": [
        "X_train"
      ],
      "metadata": {
        "id": "nAg_ygpPApKU",
        "outputId": "ee551ada-3b71-4e8e-a905-04d87b5ed5a1",
        "colab": {
          "base_uri": "https://localhost:8080/",
          "height": 522
        }
      },
      "execution_count": null,
      "outputs": [
        {
          "output_type": "execute_result",
          "data": {
            "text/plain": [
              "      Hour  Temperature(°C)  Humidity(%)  Wind speed (m/s)  Visibility (10m)  \\\n",
              "1444     4            -11.1           50               1.2              1986   \n",
              "1652    20             -5.8           44               2.1              1994   \n",
              "7496     8             11.4           66               0.8              1991   \n",
              "1893    21             -2.3           38               2.3              2000   \n",
              "3880    16             19.1           54               3.2               542   \n",
              "...    ...              ...          ...               ...               ...   \n",
              "5734    22             29.9           74               2.0              1201   \n",
              "5191     7             23.5           90               0.5               445   \n",
              "5390    14             29.5           62               2.7              1941   \n",
              "860     20             -3.4           51               1.1              1391   \n",
              "7270    22             19.3           55               0.5              2000   \n",
              "\n",
              "      Solar Radiation (MJ/m2)  Rainfall(mm)  Snowfall (cm)  Day  month  year  \\\n",
              "1444                     0.00           0.0            0.0   30      1  2018   \n",
              "1652                     0.00           0.0            0.0    2      7  2018   \n",
              "7496                     0.18           0.0            0.0   10      9  2018   \n",
              "1893                     0.00           0.0            0.0   17      2  2018   \n",
              "3880                     0.94           0.0            0.0    5     11  2018   \n",
              "...                       ...           ...            ...  ...    ...   ...   \n",
              "5734                     0.00           0.0            0.0   27      7  2018   \n",
              "5191                     0.05           0.5            0.0    7      5  2018   \n",
              "5390                     1.79           0.0            0.0   13      7  2018   \n",
              "860                      0.00           0.0            0.0    1      5  2018   \n",
              "7270                     0.00           0.0            0.0   29      9  2018   \n",
              "\n",
              "      Seasons_Autumn  Seasons_Spring  Seasons_Summer  Seasons_Winter  \\\n",
              "1444               0               0               0               1   \n",
              "1652               0               0               0               1   \n",
              "7496               1               0               0               0   \n",
              "1893               0               0               0               1   \n",
              "3880               0               1               0               0   \n",
              "...              ...             ...             ...             ...   \n",
              "5734               0               0               1               0   \n",
              "5191               0               0               1               0   \n",
              "5390               0               0               1               0   \n",
              "860                0               0               0               1   \n",
              "7270               1               0               0               0   \n",
              "\n",
              "      Holiday_Holiday  Holiday_No Holiday  Functioning Day_No  \\\n",
              "1444                0                   1                   0   \n",
              "1652                0                   1                   0   \n",
              "7496                1                   0                   1   \n",
              "1893                1                   0                   0   \n",
              "3880                0                   1                   0   \n",
              "...               ...                 ...                 ...   \n",
              "5734                0                   1                   0   \n",
              "5191                0                   1                   0   \n",
              "5390                0                   1                   0   \n",
              "860                 0                   1                   0   \n",
              "7270                0                   1                   0   \n",
              "\n",
              "      Functioning Day_Yes  \n",
              "1444                    1  \n",
              "1652                    1  \n",
              "7496                    0  \n",
              "1893                    1  \n",
              "3880                    1  \n",
              "...                   ...  \n",
              "5734                    1  \n",
              "5191                    1  \n",
              "5390                    1  \n",
              "860                     1  \n",
              "7270                    1  \n",
              "\n",
              "[6132 rows x 19 columns]"
            ],
            "text/html": [
              "\n",
              "  <div id=\"df-9c1ee547-263e-4eb2-8e3b-7f4b9f895031\">\n",
              "    <div class=\"colab-df-container\">\n",
              "      <div>\n",
              "<style scoped>\n",
              "    .dataframe tbody tr th:only-of-type {\n",
              "        vertical-align: middle;\n",
              "    }\n",
              "\n",
              "    .dataframe tbody tr th {\n",
              "        vertical-align: top;\n",
              "    }\n",
              "\n",
              "    .dataframe thead th {\n",
              "        text-align: right;\n",
              "    }\n",
              "</style>\n",
              "<table border=\"1\" class=\"dataframe\">\n",
              "  <thead>\n",
              "    <tr style=\"text-align: right;\">\n",
              "      <th></th>\n",
              "      <th>Hour</th>\n",
              "      <th>Temperature(°C)</th>\n",
              "      <th>Humidity(%)</th>\n",
              "      <th>Wind speed (m/s)</th>\n",
              "      <th>Visibility (10m)</th>\n",
              "      <th>Solar Radiation (MJ/m2)</th>\n",
              "      <th>Rainfall(mm)</th>\n",
              "      <th>Snowfall (cm)</th>\n",
              "      <th>Day</th>\n",
              "      <th>month</th>\n",
              "      <th>year</th>\n",
              "      <th>Seasons_Autumn</th>\n",
              "      <th>Seasons_Spring</th>\n",
              "      <th>Seasons_Summer</th>\n",
              "      <th>Seasons_Winter</th>\n",
              "      <th>Holiday_Holiday</th>\n",
              "      <th>Holiday_No Holiday</th>\n",
              "      <th>Functioning Day_No</th>\n",
              "      <th>Functioning Day_Yes</th>\n",
              "    </tr>\n",
              "  </thead>\n",
              "  <tbody>\n",
              "    <tr>\n",
              "      <th>1444</th>\n",
              "      <td>4</td>\n",
              "      <td>-11.1</td>\n",
              "      <td>50</td>\n",
              "      <td>1.2</td>\n",
              "      <td>1986</td>\n",
              "      <td>0.00</td>\n",
              "      <td>0.0</td>\n",
              "      <td>0.0</td>\n",
              "      <td>30</td>\n",
              "      <td>1</td>\n",
              "      <td>2018</td>\n",
              "      <td>0</td>\n",
              "      <td>0</td>\n",
              "      <td>0</td>\n",
              "      <td>1</td>\n",
              "      <td>0</td>\n",
              "      <td>1</td>\n",
              "      <td>0</td>\n",
              "      <td>1</td>\n",
              "    </tr>\n",
              "    <tr>\n",
              "      <th>1652</th>\n",
              "      <td>20</td>\n",
              "      <td>-5.8</td>\n",
              "      <td>44</td>\n",
              "      <td>2.1</td>\n",
              "      <td>1994</td>\n",
              "      <td>0.00</td>\n",
              "      <td>0.0</td>\n",
              "      <td>0.0</td>\n",
              "      <td>2</td>\n",
              "      <td>7</td>\n",
              "      <td>2018</td>\n",
              "      <td>0</td>\n",
              "      <td>0</td>\n",
              "      <td>0</td>\n",
              "      <td>1</td>\n",
              "      <td>0</td>\n",
              "      <td>1</td>\n",
              "      <td>0</td>\n",
              "      <td>1</td>\n",
              "    </tr>\n",
              "    <tr>\n",
              "      <th>7496</th>\n",
              "      <td>8</td>\n",
              "      <td>11.4</td>\n",
              "      <td>66</td>\n",
              "      <td>0.8</td>\n",
              "      <td>1991</td>\n",
              "      <td>0.18</td>\n",
              "      <td>0.0</td>\n",
              "      <td>0.0</td>\n",
              "      <td>10</td>\n",
              "      <td>9</td>\n",
              "      <td>2018</td>\n",
              "      <td>1</td>\n",
              "      <td>0</td>\n",
              "      <td>0</td>\n",
              "      <td>0</td>\n",
              "      <td>1</td>\n",
              "      <td>0</td>\n",
              "      <td>1</td>\n",
              "      <td>0</td>\n",
              "    </tr>\n",
              "    <tr>\n",
              "      <th>1893</th>\n",
              "      <td>21</td>\n",
              "      <td>-2.3</td>\n",
              "      <td>38</td>\n",
              "      <td>2.3</td>\n",
              "      <td>2000</td>\n",
              "      <td>0.00</td>\n",
              "      <td>0.0</td>\n",
              "      <td>0.0</td>\n",
              "      <td>17</td>\n",
              "      <td>2</td>\n",
              "      <td>2018</td>\n",
              "      <td>0</td>\n",
              "      <td>0</td>\n",
              "      <td>0</td>\n",
              "      <td>1</td>\n",
              "      <td>1</td>\n",
              "      <td>0</td>\n",
              "      <td>0</td>\n",
              "      <td>1</td>\n",
              "    </tr>\n",
              "    <tr>\n",
              "      <th>3880</th>\n",
              "      <td>16</td>\n",
              "      <td>19.1</td>\n",
              "      <td>54</td>\n",
              "      <td>3.2</td>\n",
              "      <td>542</td>\n",
              "      <td>0.94</td>\n",
              "      <td>0.0</td>\n",
              "      <td>0.0</td>\n",
              "      <td>5</td>\n",
              "      <td>11</td>\n",
              "      <td>2018</td>\n",
              "      <td>0</td>\n",
              "      <td>1</td>\n",
              "      <td>0</td>\n",
              "      <td>0</td>\n",
              "      <td>0</td>\n",
              "      <td>1</td>\n",
              "      <td>0</td>\n",
              "      <td>1</td>\n",
              "    </tr>\n",
              "    <tr>\n",
              "      <th>...</th>\n",
              "      <td>...</td>\n",
              "      <td>...</td>\n",
              "      <td>...</td>\n",
              "      <td>...</td>\n",
              "      <td>...</td>\n",
              "      <td>...</td>\n",
              "      <td>...</td>\n",
              "      <td>...</td>\n",
              "      <td>...</td>\n",
              "      <td>...</td>\n",
              "      <td>...</td>\n",
              "      <td>...</td>\n",
              "      <td>...</td>\n",
              "      <td>...</td>\n",
              "      <td>...</td>\n",
              "      <td>...</td>\n",
              "      <td>...</td>\n",
              "      <td>...</td>\n",
              "      <td>...</td>\n",
              "    </tr>\n",
              "    <tr>\n",
              "      <th>5734</th>\n",
              "      <td>22</td>\n",
              "      <td>29.9</td>\n",
              "      <td>74</td>\n",
              "      <td>2.0</td>\n",
              "      <td>1201</td>\n",
              "      <td>0.00</td>\n",
              "      <td>0.0</td>\n",
              "      <td>0.0</td>\n",
              "      <td>27</td>\n",
              "      <td>7</td>\n",
              "      <td>2018</td>\n",
              "      <td>0</td>\n",
              "      <td>0</td>\n",
              "      <td>1</td>\n",
              "      <td>0</td>\n",
              "      <td>0</td>\n",
              "      <td>1</td>\n",
              "      <td>0</td>\n",
              "      <td>1</td>\n",
              "    </tr>\n",
              "    <tr>\n",
              "      <th>5191</th>\n",
              "      <td>7</td>\n",
              "      <td>23.5</td>\n",
              "      <td>90</td>\n",
              "      <td>0.5</td>\n",
              "      <td>445</td>\n",
              "      <td>0.05</td>\n",
              "      <td>0.5</td>\n",
              "      <td>0.0</td>\n",
              "      <td>7</td>\n",
              "      <td>5</td>\n",
              "      <td>2018</td>\n",
              "      <td>0</td>\n",
              "      <td>0</td>\n",
              "      <td>1</td>\n",
              "      <td>0</td>\n",
              "      <td>0</td>\n",
              "      <td>1</td>\n",
              "      <td>0</td>\n",
              "      <td>1</td>\n",
              "    </tr>\n",
              "    <tr>\n",
              "      <th>5390</th>\n",
              "      <td>14</td>\n",
              "      <td>29.5</td>\n",
              "      <td>62</td>\n",
              "      <td>2.7</td>\n",
              "      <td>1941</td>\n",
              "      <td>1.79</td>\n",
              "      <td>0.0</td>\n",
              "      <td>0.0</td>\n",
              "      <td>13</td>\n",
              "      <td>7</td>\n",
              "      <td>2018</td>\n",
              "      <td>0</td>\n",
              "      <td>0</td>\n",
              "      <td>1</td>\n",
              "      <td>0</td>\n",
              "      <td>0</td>\n",
              "      <td>1</td>\n",
              "      <td>0</td>\n",
              "      <td>1</td>\n",
              "    </tr>\n",
              "    <tr>\n",
              "      <th>860</th>\n",
              "      <td>20</td>\n",
              "      <td>-3.4</td>\n",
              "      <td>51</td>\n",
              "      <td>1.1</td>\n",
              "      <td>1391</td>\n",
              "      <td>0.00</td>\n",
              "      <td>0.0</td>\n",
              "      <td>0.0</td>\n",
              "      <td>1</td>\n",
              "      <td>5</td>\n",
              "      <td>2018</td>\n",
              "      <td>0</td>\n",
              "      <td>0</td>\n",
              "      <td>0</td>\n",
              "      <td>1</td>\n",
              "      <td>0</td>\n",
              "      <td>1</td>\n",
              "      <td>0</td>\n",
              "      <td>1</td>\n",
              "    </tr>\n",
              "    <tr>\n",
              "      <th>7270</th>\n",
              "      <td>22</td>\n",
              "      <td>19.3</td>\n",
              "      <td>55</td>\n",
              "      <td>0.5</td>\n",
              "      <td>2000</td>\n",
              "      <td>0.00</td>\n",
              "      <td>0.0</td>\n",
              "      <td>0.0</td>\n",
              "      <td>29</td>\n",
              "      <td>9</td>\n",
              "      <td>2018</td>\n",
              "      <td>1</td>\n",
              "      <td>0</td>\n",
              "      <td>0</td>\n",
              "      <td>0</td>\n",
              "      <td>0</td>\n",
              "      <td>1</td>\n",
              "      <td>0</td>\n",
              "      <td>1</td>\n",
              "    </tr>\n",
              "  </tbody>\n",
              "</table>\n",
              "<p>6132 rows × 19 columns</p>\n",
              "</div>\n",
              "      <button class=\"colab-df-convert\" onclick=\"convertToInteractive('df-9c1ee547-263e-4eb2-8e3b-7f4b9f895031')\"\n",
              "              title=\"Convert this dataframe to an interactive table.\"\n",
              "              style=\"display:none;\">\n",
              "        \n",
              "  <svg xmlns=\"http://www.w3.org/2000/svg\" height=\"24px\"viewBox=\"0 0 24 24\"\n",
              "       width=\"24px\">\n",
              "    <path d=\"M0 0h24v24H0V0z\" fill=\"none\"/>\n",
              "    <path d=\"M18.56 5.44l.94 2.06.94-2.06 2.06-.94-2.06-.94-.94-2.06-.94 2.06-2.06.94zm-11 1L8.5 8.5l.94-2.06 2.06-.94-2.06-.94L8.5 2.5l-.94 2.06-2.06.94zm10 10l.94 2.06.94-2.06 2.06-.94-2.06-.94-.94-2.06-.94 2.06-2.06.94z\"/><path d=\"M17.41 7.96l-1.37-1.37c-.4-.4-.92-.59-1.43-.59-.52 0-1.04.2-1.43.59L10.3 9.45l-7.72 7.72c-.78.78-.78 2.05 0 2.83L4 21.41c.39.39.9.59 1.41.59.51 0 1.02-.2 1.41-.59l7.78-7.78 2.81-2.81c.8-.78.8-2.07 0-2.86zM5.41 20L4 18.59l7.72-7.72 1.47 1.35L5.41 20z\"/>\n",
              "  </svg>\n",
              "      </button>\n",
              "      \n",
              "  <style>\n",
              "    .colab-df-container {\n",
              "      display:flex;\n",
              "      flex-wrap:wrap;\n",
              "      gap: 12px;\n",
              "    }\n",
              "\n",
              "    .colab-df-convert {\n",
              "      background-color: #E8F0FE;\n",
              "      border: none;\n",
              "      border-radius: 50%;\n",
              "      cursor: pointer;\n",
              "      display: none;\n",
              "      fill: #1967D2;\n",
              "      height: 32px;\n",
              "      padding: 0 0 0 0;\n",
              "      width: 32px;\n",
              "    }\n",
              "\n",
              "    .colab-df-convert:hover {\n",
              "      background-color: #E2EBFA;\n",
              "      box-shadow: 0px 1px 2px rgba(60, 64, 67, 0.3), 0px 1px 3px 1px rgba(60, 64, 67, 0.15);\n",
              "      fill: #174EA6;\n",
              "    }\n",
              "\n",
              "    [theme=dark] .colab-df-convert {\n",
              "      background-color: #3B4455;\n",
              "      fill: #D2E3FC;\n",
              "    }\n",
              "\n",
              "    [theme=dark] .colab-df-convert:hover {\n",
              "      background-color: #434B5C;\n",
              "      box-shadow: 0px 1px 3px 1px rgba(0, 0, 0, 0.15);\n",
              "      filter: drop-shadow(0px 1px 2px rgba(0, 0, 0, 0.3));\n",
              "      fill: #FFFFFF;\n",
              "    }\n",
              "  </style>\n",
              "\n",
              "      <script>\n",
              "        const buttonEl =\n",
              "          document.querySelector('#df-9c1ee547-263e-4eb2-8e3b-7f4b9f895031 button.colab-df-convert');\n",
              "        buttonEl.style.display =\n",
              "          google.colab.kernel.accessAllowed ? 'block' : 'none';\n",
              "\n",
              "        async function convertToInteractive(key) {\n",
              "          const element = document.querySelector('#df-9c1ee547-263e-4eb2-8e3b-7f4b9f895031');\n",
              "          const dataTable =\n",
              "            await google.colab.kernel.invokeFunction('convertToInteractive',\n",
              "                                                     [key], {});\n",
              "          if (!dataTable) return;\n",
              "\n",
              "          const docLinkHtml = 'Like what you see? Visit the ' +\n",
              "            '<a target=\"_blank\" href=https://colab.research.google.com/notebooks/data_table.ipynb>data table notebook</a>'\n",
              "            + ' to learn more about interactive tables.';\n",
              "          element.innerHTML = '';\n",
              "          dataTable['output_type'] = 'display_data';\n",
              "          await google.colab.output.renderOutput(dataTable, element);\n",
              "          const docLink = document.createElement('div');\n",
              "          docLink.innerHTML = docLinkHtml;\n",
              "          element.appendChild(docLink);\n",
              "        }\n",
              "      </script>\n",
              "    </div>\n",
              "  </div>\n",
              "  "
            ]
          },
          "metadata": {},
          "execution_count": 37
        }
      ]
    },
    {
      "cell_type": "code",
      "source": [
        "# standerdising data set\n",
        "scaler = StandardScaler()"
      ],
      "metadata": {
        "id": "I7BdcTmhA0PO"
      },
      "execution_count": null,
      "outputs": []
    },
    {
      "cell_type": "code",
      "source": [
        "X_train =scaler.fit_transform(X_train)"
      ],
      "metadata": {
        "id": "V5yy5vg7BFve"
      },
      "execution_count": null,
      "outputs": []
    },
    {
      "cell_type": "code",
      "source": [
        "X_test=scaler.transform(X_test)"
      ],
      "metadata": {
        "id": "U8tDknOUBFkI"
      },
      "execution_count": null,
      "outputs": []
    },
    {
      "cell_type": "code",
      "source": [
        "X_train"
      ],
      "metadata": {
        "id": "2wyzy9qmBFXm",
        "outputId": "9e0be52b-4d41-4192-fd1a-5312b5679851",
        "colab": {
          "base_uri": "https://localhost:8080/"
        }
      },
      "execution_count": null,
      "outputs": [
        {
          "output_type": "execute_result",
          "data": {
            "text/plain": [
              "array([[-1.09359218, -2.02557075, -0.40155174, ...,  0.22838997,\n",
              "        -0.18831089,  0.18831089],\n",
              "       [ 1.23323198, -1.58026093, -0.69489404, ...,  0.22838997,\n",
              "        -0.18831089,  0.18831089],\n",
              "       [-0.51188614, -0.13510455,  0.3806944 , ..., -4.37847606,\n",
              "         5.31036722, -5.31036722],\n",
              "       ...,\n",
              "       [ 0.36067292,  1.38567048,  0.18513286, ...,  0.22838997,\n",
              "        -0.18831089,  0.18831089],\n",
              "       [ 1.23323198, -1.37861121, -0.35266136, ...,  0.22838997,\n",
              "        -0.18831089,  0.18831089],\n",
              "       [ 1.524085  ,  0.52865914, -0.15709982, ...,  0.22838997,\n",
              "        -0.18831089,  0.18831089]])"
            ]
          },
          "metadata": {},
          "execution_count": 41
        }
      ]
    },
    {
      "cell_type": "code",
      "source": [
        "scaler.inverse_transform(X_train)"
      ],
      "metadata": {
        "id": "D8s0MZJJBzbn",
        "outputId": "5425b9f8-c096-4ceb-f2ad-bc8ef82bed4a",
        "colab": {
          "base_uri": "https://localhost:8080/"
        }
      },
      "execution_count": null,
      "outputs": [
        {
          "output_type": "execute_result",
          "data": {
            "text/plain": [
              "array([[  4. , -11.1,  50. , ...,   1. ,   0. ,   1. ],\n",
              "       [ 20. ,  -5.8,  44. , ...,   1. ,   0. ,   1. ],\n",
              "       [  8. ,  11.4,  66. , ...,   0. ,   1. ,   0. ],\n",
              "       ...,\n",
              "       [ 14. ,  29.5,  62. , ...,   1. ,   0. ,   1. ],\n",
              "       [ 20. ,  -3.4,  51. , ...,   1. ,   0. ,   1. ],\n",
              "       [ 22. ,  19.3,  55. , ...,   1. ,   0. ,   1. ]])"
            ]
          },
          "metadata": {},
          "execution_count": 42
        }
      ]
    },
    {
      "cell_type": "code",
      "source": [
        "from os import X_OK\n",
        "from sklearn.linear_model import LinearRegression\n",
        "regression=LinearRegression()\n",
        "regression.fit(X_train,y_train)"
      ],
      "metadata": {
        "id": "xpI9CSy-BzYW",
        "outputId": "f6fcd4ac-4ed8-419b-9b2f-cae2c2a3627a",
        "colab": {
          "base_uri": "https://localhost:8080/"
        }
      },
      "execution_count": null,
      "outputs": [
        {
          "output_type": "execute_result",
          "data": {
            "text/plain": [
              "LinearRegression()"
            ]
          },
          "metadata": {},
          "execution_count": 43
        }
      ]
    },
    {
      "cell_type": "code",
      "source": [
        "mse=cross_val_score(regression,X_train,y_train,scoring='neg_mean_squared_error',cv=10)"
      ],
      "metadata": {
        "id": "4Dq9HoJIBzVp"
      },
      "execution_count": null,
      "outputs": []
    },
    {
      "cell_type": "code",
      "source": [
        "np.mean(mse)"
      ],
      "metadata": {
        "id": "f58KlCG2BzS3",
        "outputId": "158616a4-09c8-4ac4-8a04-76f778dc1a91",
        "colab": {
          "base_uri": "https://localhost:8080/"
        }
      },
      "execution_count": null,
      "outputs": [
        {
          "output_type": "execute_result",
          "data": {
            "text/plain": [
              "-186182.7258996444"
            ]
          },
          "metadata": {},
          "execution_count": 45
        }
      ]
    },
    {
      "cell_type": "code",
      "source": [
        "#prediction\n",
        "reg_predict = regression.predict(X_test)"
      ],
      "metadata": {
        "id": "5OFKTLbLBzP7"
      },
      "execution_count": null,
      "outputs": []
    },
    {
      "cell_type": "code",
      "source": [
        "reg_predict"
      ],
      "metadata": {
        "id": "P76D0nZ2BzNB",
        "outputId": "2a0c601d-eab7-4a6c-ec6e-86605991d71d",
        "colab": {
          "base_uri": "https://localhost:8080/"
        }
      },
      "execution_count": null,
      "outputs": [
        {
          "output_type": "execute_result",
          "data": {
            "text/plain": [
              "array([ 957.40033435, 1135.5032953 , 1369.58257358, ..., 1185.10520826,\n",
              "        508.90687415,  720.79380761])"
            ]
          },
          "metadata": {},
          "execution_count": 47
        }
      ]
    },
    {
      "cell_type": "code",
      "source": [
        "sns.displot(reg_predict-y_test,kind='kde')"
      ],
      "metadata": {
        "id": "PrxVnWUODFG1",
        "outputId": "0427e009-6997-4bbd-bd1c-101c549f2ab2",
        "colab": {
          "base_uri": "https://localhost:8080/",
          "height": 386
        }
      },
      "execution_count": null,
      "outputs": [
        {
          "output_type": "execute_result",
          "data": {
            "text/plain": [
              "<seaborn.axisgrid.FacetGrid at 0x7fca85bfa410>"
            ]
          },
          "metadata": {},
          "execution_count": 48
        },
        {
          "output_type": "display_data",
          "data": {
            "text/plain": [
              "<Figure size 360x360 with 1 Axes>"
            ],
            "image/png": "[encoded data removed]"
          },
          "metadata": {
            "needs_background": "light"
          }
        }
      ]
    },
    {
      "cell_type": "code",
      "source": [
        "score=r2_score(reg_predict,y_test)"
      ],
      "metadata": {
        "id": "xDA5WDrvDFCA",
        "outputId": "0765051f-d685-4ec9-a3b4-cfc98498ecb7",
        "colab": {
          "base_uri": "https://localhost:8080/",
          "height": 165
        }
      },
      "execution_count": 2,
      "outputs": [
        {
          "output_type": "error",
          "ename": "NameError",
          "evalue": "ignored",
          "traceback": [
            "\u001b[0;31m---------------------------------------------------------------------------\u001b[0m",
            "\u001b[0;31mNameError\u001b[0m                                 Traceback (most recent call last)",
            "\u001b[0;32m<ipython-input-2-97bc5bdba81f>\u001b[0m in \u001b[0;36m<module>\u001b[0;34m\u001b[0m\n\u001b[0;32m----> 1\u001b[0;31m \u001b[0mscore\u001b[0m\u001b[0;34m=\u001b[0m\u001b[0mr2_score\u001b[0m\u001b[0;34m(\u001b[0m\u001b[0mreg_predict\u001b[0m\u001b[0;34m,\u001b[0m\u001b[0my_test\u001b[0m\u001b[0;34m)\u001b[0m\u001b[0;34m\u001b[0m\u001b[0;34m\u001b[0m\u001b[0m\n\u001b[0m",
            "\u001b[0;31mNameError\u001b[0m: name 'r2_score' is not defined"
          ]
        }
      ]
    },
    {
      "cell_type": "code",
      "source": [],
      "metadata": {
        "id": "a4qiF7OADfTq"
      },
      "execution_count": 4,
      "outputs": []
    },
    {
      "cell_type": "code",
      "source": [],
      "metadata": {
        "id": "WQKMZJo269IY"
      },
      "execution_count": null,
      "outputs": []
    },
    {
      "cell_type": "code",
      "source": [],
      "metadata": {
        "id": "d_Uu2tBqPsQ_"
      },
      "execution_count": null,
      "outputs": []
    },
    {
      "cell_type": "code",
      "source": [],
      "metadata": {
        "id": "MRFsFjvTP75c"
      },
      "execution_count": null,
      "outputs": []
    },
    {
      "cell_type": "code",
      "source": [],
      "metadata": {
        "id": "pci87Wbp8oUe"
      },
      "execution_count": null,
      "outputs": []
    },
    {
      "cell_type": "code",
      "source": [],
      "metadata": {
        "id": "7g4_NnW-8qgY"
      },
      "execution_count": null,
      "outputs": []
    },
    {
      "cell_type": "code",
      "source": [
        "\n"
      ],
      "metadata": {
        "id": "uc97y-7O8tGD"
      },
      "execution_count": null,
      "outputs": []
    },
    {
      "cell_type": "code",
      "source": [],
      "metadata": {
        "id": "MBHKMkEX8vvm"
      },
      "execution_count": null,
      "outputs": []
    },
    {
      "cell_type": "code",
      "source": [],
      "metadata": {
        "id": "gRdLznZG8yDx"
      },
      "execution_count": null,
      "outputs": []
    }
  ]
}